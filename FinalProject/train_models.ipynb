{
 "cells": [
  {
   "cell_type": "code",
   "execution_count": 288,
   "id": "2ee9c92f-2c45-41fc-aa4c-bb6d50d4e258",
   "metadata": {},
   "outputs": [],
   "source": [
    "require(caret)\n",
    "require(tidyverse)\n",
    "require(glmnet)\n",
    "require(skimr)\n",
    "require(pROC)\n",
    "library(readr)"
   ]
  },
  {
   "cell_type": "markdown",
   "id": "00bd7a35-a254-49ce-9049-bbf0523632f4",
   "metadata": {},
   "source": [
    "# Read Data"
   ]
  },
  {
   "cell_type": "code",
   "execution_count": 144,
   "id": "73472d5b-bd2f-4093-9be9-5da1419103cd",
   "metadata": {},
   "outputs": [
    {
     "data": {
      "text/html": [
       "<table class=\"dataframe\">\n",
       "<caption>A tibble: 6 × 24</caption>\n",
       "<thead>\n",
       "\t<tr><th scope=col>Booking_ID</th><th scope=col>no_of_adults</th><th scope=col>no_of_children</th><th scope=col>no_of_weekend_nights</th><th scope=col>no_of_week_nights</th><th scope=col>type_of_meal_plan</th><th scope=col>required_car_parking_space</th><th scope=col>room_type_reserved</th><th scope=col>lead_time</th><th scope=col>arrival_year</th><th scope=col>⋯</th><th scope=col>no_of_previous_cancellations</th><th scope=col>no_of_previous_bookings_not_canceled</th><th scope=col>avg_price_per_room</th><th scope=col>no_of_special_requests</th><th scope=col>booking_status</th><th scope=col>arrival_dt</th><th scope=col>day_of_week</th><th scope=col>day_type</th><th scope=col>total_people</th><th scope=col>season</th></tr>\n",
       "\t<tr><th scope=col>&lt;fct&gt;</th><th scope=col>&lt;dbl&gt;</th><th scope=col>&lt;dbl&gt;</th><th scope=col>&lt;dbl&gt;</th><th scope=col>&lt;dbl&gt;</th><th scope=col>&lt;fct&gt;</th><th scope=col>&lt;dbl&gt;</th><th scope=col>&lt;fct&gt;</th><th scope=col>&lt;dbl&gt;</th><th scope=col>&lt;dbl&gt;</th><th scope=col>⋯</th><th scope=col>&lt;dbl&gt;</th><th scope=col>&lt;dbl&gt;</th><th scope=col>&lt;dbl&gt;</th><th scope=col>&lt;dbl&gt;</th><th scope=col>&lt;fct&gt;</th><th scope=col>&lt;date&gt;</th><th scope=col>&lt;fct&gt;</th><th scope=col>&lt;fct&gt;</th><th scope=col>&lt;dbl&gt;</th><th scope=col>&lt;fct&gt;</th></tr>\n",
       "</thead>\n",
       "<tbody>\n",
       "\t<tr><td>INN00001</td><td>2</td><td>0</td><td>1</td><td>2</td><td>Meal Plan 1 </td><td>0</td><td>Room_Type 1</td><td>224</td><td>2017</td><td>⋯</td><td>0</td><td>0</td><td> 65.00</td><td>0</td><td>Not_Canceled</td><td>2017-10-02</td><td>Monday   </td><td>Weekday</td><td>2</td><td>autumm</td></tr>\n",
       "\t<tr><td>INN00002</td><td>2</td><td>0</td><td>2</td><td>3</td><td>Not Selected</td><td>0</td><td>Room_Type 1</td><td>  5</td><td>2018</td><td>⋯</td><td>0</td><td>0</td><td>106.68</td><td>1</td><td>Not_Canceled</td><td>2018-11-06</td><td>Tuesday  </td><td>Weekday</td><td>2</td><td>autumm</td></tr>\n",
       "\t<tr><td>INN00004</td><td>2</td><td>0</td><td>0</td><td>2</td><td>Meal Plan 1 </td><td>0</td><td>Room_Type 1</td><td>211</td><td>2018</td><td>⋯</td><td>0</td><td>0</td><td>100.00</td><td>0</td><td>Canceled    </td><td>2018-05-20</td><td>Sunday   </td><td>Weekend</td><td>2</td><td>spring</td></tr>\n",
       "\t<tr><td>INN00005</td><td>2</td><td>0</td><td>1</td><td>1</td><td>Not Selected</td><td>0</td><td>Room_Type 1</td><td> 48</td><td>2018</td><td>⋯</td><td>0</td><td>0</td><td> 94.50</td><td>0</td><td>Canceled    </td><td>2018-04-11</td><td>Wednesday</td><td>Weekday</td><td>2</td><td>spring</td></tr>\n",
       "\t<tr><td>INN00006</td><td>2</td><td>0</td><td>0</td><td>2</td><td>Meal Plan 2 </td><td>0</td><td>Room_Type 1</td><td>346</td><td>2018</td><td>⋯</td><td>0</td><td>0</td><td>115.00</td><td>1</td><td>Canceled    </td><td>2018-09-13</td><td>Thursday </td><td>Weekday</td><td>2</td><td>autumm</td></tr>\n",
       "\t<tr><td>INN00007</td><td>2</td><td>0</td><td>1</td><td>3</td><td>Meal Plan 1 </td><td>0</td><td>Room_Type 1</td><td> 34</td><td>2017</td><td>⋯</td><td>0</td><td>0</td><td>107.55</td><td>1</td><td>Not_Canceled</td><td>2017-10-15</td><td>Sunday   </td><td>Weekend</td><td>2</td><td>autumm</td></tr>\n",
       "</tbody>\n",
       "</table>\n"
      ],
      "text/latex": [
       "A tibble: 6 × 24\n",
       "\\begin{tabular}{lllllllllllllllllllll}\n",
       " Booking\\_ID & no\\_of\\_adults & no\\_of\\_children & no\\_of\\_weekend\\_nights & no\\_of\\_week\\_nights & type\\_of\\_meal\\_plan & required\\_car\\_parking\\_space & room\\_type\\_reserved & lead\\_time & arrival\\_year & ⋯ & no\\_of\\_previous\\_cancellations & no\\_of\\_previous\\_bookings\\_not\\_canceled & avg\\_price\\_per\\_room & no\\_of\\_special\\_requests & booking\\_status & arrival\\_dt & day\\_of\\_week & day\\_type & total\\_people & season\\\\\n",
       " <fct> & <dbl> & <dbl> & <dbl> & <dbl> & <fct> & <dbl> & <fct> & <dbl> & <dbl> & ⋯ & <dbl> & <dbl> & <dbl> & <dbl> & <fct> & <date> & <fct> & <fct> & <dbl> & <fct>\\\\\n",
       "\\hline\n",
       "\t INN00001 & 2 & 0 & 1 & 2 & Meal Plan 1  & 0 & Room\\_Type 1 & 224 & 2017 & ⋯ & 0 & 0 &  65.00 & 0 & Not\\_Canceled & 2017-10-02 & Monday    & Weekday & 2 & autumm\\\\\n",
       "\t INN00002 & 2 & 0 & 2 & 3 & Not Selected & 0 & Room\\_Type 1 &   5 & 2018 & ⋯ & 0 & 0 & 106.68 & 1 & Not\\_Canceled & 2018-11-06 & Tuesday   & Weekday & 2 & autumm\\\\\n",
       "\t INN00004 & 2 & 0 & 0 & 2 & Meal Plan 1  & 0 & Room\\_Type 1 & 211 & 2018 & ⋯ & 0 & 0 & 100.00 & 0 & Canceled     & 2018-05-20 & Sunday    & Weekend & 2 & spring\\\\\n",
       "\t INN00005 & 2 & 0 & 1 & 1 & Not Selected & 0 & Room\\_Type 1 &  48 & 2018 & ⋯ & 0 & 0 &  94.50 & 0 & Canceled     & 2018-04-11 & Wednesday & Weekday & 2 & spring\\\\\n",
       "\t INN00006 & 2 & 0 & 0 & 2 & Meal Plan 2  & 0 & Room\\_Type 1 & 346 & 2018 & ⋯ & 0 & 0 & 115.00 & 1 & Canceled     & 2018-09-13 & Thursday  & Weekday & 2 & autumm\\\\\n",
       "\t INN00007 & 2 & 0 & 1 & 3 & Meal Plan 1  & 0 & Room\\_Type 1 &  34 & 2017 & ⋯ & 0 & 0 & 107.55 & 1 & Not\\_Canceled & 2017-10-15 & Sunday    & Weekend & 2 & autumm\\\\\n",
       "\\end{tabular}\n"
      ],
      "text/markdown": [
       "\n",
       "A tibble: 6 × 24\n",
       "\n",
       "| Booking_ID &lt;fct&gt; | no_of_adults &lt;dbl&gt; | no_of_children &lt;dbl&gt; | no_of_weekend_nights &lt;dbl&gt; | no_of_week_nights &lt;dbl&gt; | type_of_meal_plan &lt;fct&gt; | required_car_parking_space &lt;dbl&gt; | room_type_reserved &lt;fct&gt; | lead_time &lt;dbl&gt; | arrival_year &lt;dbl&gt; | ⋯ ⋯ | no_of_previous_cancellations &lt;dbl&gt; | no_of_previous_bookings_not_canceled &lt;dbl&gt; | avg_price_per_room &lt;dbl&gt; | no_of_special_requests &lt;dbl&gt; | booking_status &lt;fct&gt; | arrival_dt &lt;date&gt; | day_of_week &lt;fct&gt; | day_type &lt;fct&gt; | total_people &lt;dbl&gt; | season &lt;fct&gt; |\n",
       "|---|---|---|---|---|---|---|---|---|---|---|---|---|---|---|---|---|---|---|---|---|\n",
       "| INN00001 | 2 | 0 | 1 | 2 | Meal Plan 1  | 0 | Room_Type 1 | 224 | 2017 | ⋯ | 0 | 0 |  65.00 | 0 | Not_Canceled | 2017-10-02 | Monday    | Weekday | 2 | autumm |\n",
       "| INN00002 | 2 | 0 | 2 | 3 | Not Selected | 0 | Room_Type 1 |   5 | 2018 | ⋯ | 0 | 0 | 106.68 | 1 | Not_Canceled | 2018-11-06 | Tuesday   | Weekday | 2 | autumm |\n",
       "| INN00004 | 2 | 0 | 0 | 2 | Meal Plan 1  | 0 | Room_Type 1 | 211 | 2018 | ⋯ | 0 | 0 | 100.00 | 0 | Canceled     | 2018-05-20 | Sunday    | Weekend | 2 | spring |\n",
       "| INN00005 | 2 | 0 | 1 | 1 | Not Selected | 0 | Room_Type 1 |  48 | 2018 | ⋯ | 0 | 0 |  94.50 | 0 | Canceled     | 2018-04-11 | Wednesday | Weekday | 2 | spring |\n",
       "| INN00006 | 2 | 0 | 0 | 2 | Meal Plan 2  | 0 | Room_Type 1 | 346 | 2018 | ⋯ | 0 | 0 | 115.00 | 1 | Canceled     | 2018-09-13 | Thursday  | Weekday | 2 | autumm |\n",
       "| INN00007 | 2 | 0 | 1 | 3 | Meal Plan 1  | 0 | Room_Type 1 |  34 | 2017 | ⋯ | 0 | 0 | 107.55 | 1 | Not_Canceled | 2017-10-15 | Sunday    | Weekend | 2 | autumm |\n",
       "\n"
      ],
      "text/plain": [
       "  Booking_ID no_of_adults no_of_children no_of_weekend_nights no_of_week_nights\n",
       "1 INN00001   2            0              1                    2                \n",
       "2 INN00002   2            0              2                    3                \n",
       "3 INN00004   2            0              0                    2                \n",
       "4 INN00005   2            0              1                    1                \n",
       "5 INN00006   2            0              0                    2                \n",
       "6 INN00007   2            0              1                    3                \n",
       "  type_of_meal_plan required_car_parking_space room_type_reserved lead_time\n",
       "1 Meal Plan 1       0                          Room_Type 1        224      \n",
       "2 Not Selected      0                          Room_Type 1          5      \n",
       "3 Meal Plan 1       0                          Room_Type 1        211      \n",
       "4 Not Selected      0                          Room_Type 1         48      \n",
       "5 Meal Plan 2       0                          Room_Type 1        346      \n",
       "6 Meal Plan 1       0                          Room_Type 1         34      \n",
       "  arrival_year ⋯ no_of_previous_cancellations\n",
       "1 2017         ⋯ 0                           \n",
       "2 2018         ⋯ 0                           \n",
       "3 2018         ⋯ 0                           \n",
       "4 2018         ⋯ 0                           \n",
       "5 2018         ⋯ 0                           \n",
       "6 2017         ⋯ 0                           \n",
       "  no_of_previous_bookings_not_canceled avg_price_per_room\n",
       "1 0                                     65.00            \n",
       "2 0                                    106.68            \n",
       "3 0                                    100.00            \n",
       "4 0                                     94.50            \n",
       "5 0                                    115.00            \n",
       "6 0                                    107.55            \n",
       "  no_of_special_requests booking_status arrival_dt day_of_week day_type\n",
       "1 0                      Not_Canceled   2017-10-02 Monday      Weekday \n",
       "2 1                      Not_Canceled   2018-11-06 Tuesday     Weekday \n",
       "3 0                      Canceled       2018-05-20 Sunday      Weekend \n",
       "4 0                      Canceled       2018-04-11 Wednesday   Weekday \n",
       "5 1                      Canceled       2018-09-13 Thursday    Weekday \n",
       "6 1                      Not_Canceled   2017-10-15 Sunday      Weekend \n",
       "  total_people season\n",
       "1 2            autumm\n",
       "2 2            autumm\n",
       "3 2            spring\n",
       "4 2            spring\n",
       "5 2            autumm\n",
       "6 2            autumm"
      ]
     },
     "metadata": {},
     "output_type": "display_data"
    }
   ],
   "source": [
    "hotel_df <- readRDS(\"Data/hotel.rds\")\n",
    "head(hotel_df)"
   ]
  },
  {
   "cell_type": "markdown",
   "id": "3723a96d-7602-4ea3-912c-48ec5dbf9bca",
   "metadata": {},
   "source": [
    "## Check Structure"
   ]
  },
  {
   "cell_type": "code",
   "execution_count": 149,
   "id": "6c3178b3-c2a9-4f54-b10c-968f18d3d465",
   "metadata": {},
   "outputs": [
    {
     "name": "stdout",
     "output_type": "stream",
     "text": [
      "tibble [33,418 × 24] (S3: tbl_df/tbl/data.frame)\n",
      " $ Booking_ID                          : Factor w/ 33418 levels \"INN00001\",\"INN00002\",..: 1 2 3 4 5 6 7 8 9 10 ...\n",
      " $ no_of_adults                        : num [1:33418] 2 2 2 2 2 2 2 3 2 1 ...\n",
      " $ no_of_children                      : num [1:33418] 0 0 0 0 0 0 0 0 0 0 ...\n",
      " $ no_of_weekend_nights                : num [1:33418] 1 2 0 1 0 1 1 0 0 1 ...\n",
      " $ no_of_week_nights                   : num [1:33418] 2 3 2 1 2 3 3 4 5 0 ...\n",
      " $ type_of_meal_plan                   : Factor w/ 4 levels \"Meal Plan 1\",..: 1 4 1 4 2 1 1 1 1 4 ...\n",
      " $ required_car_parking_space          : num [1:33418] 0 0 0 0 0 0 0 0 0 0 ...\n",
      " $ room_type_reserved                  : Factor w/ 7 levels \"Room_Type 1\",..: 1 1 1 1 1 1 4 1 4 1 ...\n",
      " $ lead_time                           : num [1:33418] 224 5 211 48 346 34 83 121 44 0 ...\n",
      " $ arrival_year                        : num [1:33418] 2017 2018 2018 2018 2018 ...\n",
      " $ arrival_month                       : num [1:33418] 10 11 5 4 9 10 12 7 10 9 ...\n",
      " $ arrival_date                        : num [1:33418] 2 6 20 11 13 15 26 6 18 11 ...\n",
      " $ market_segment_type                 : Factor w/ 5 levels \"Aviation\",\"Complementary\",..: 4 5 5 5 5 5 5 4 5 5 ...\n",
      " $ repeated_guest                      : num [1:33418] 0 0 0 0 0 0 0 0 0 0 ...\n",
      " $ no_of_previous_cancellations        : num [1:33418] 0 0 0 0 0 0 0 0 0 0 ...\n",
      " $ no_of_previous_bookings_not_canceled: num [1:33418] 0 0 0 0 0 0 0 0 0 0 ...\n",
      " $ avg_price_per_room                  : num [1:33418] 65 106.7 100 94.5 115 ...\n",
      " $ no_of_special_requests              : num [1:33418] 0 1 0 0 1 1 1 1 3 0 ...\n",
      " $ booking_status                      : Factor w/ 2 levels \"Canceled\",\"Not_Canceled\": 2 2 1 1 1 2 2 2 2 2 ...\n",
      " $ arrival_dt                          : Date[1:33418], format: \"2017-10-02\" \"2018-11-06\" ...\n",
      " $ day_of_week                         : Factor w/ 7 levels \"Friday\",\"Monday\",..: 2 6 4 7 5 4 7 1 5 6 ...\n",
      " $ day_type                            : Factor w/ 2 levels \"Weekday\",\"Weekend\": 1 1 2 1 1 2 1 1 1 1 ...\n",
      " $ total_people                        : num [1:33418] 2 2 2 2 2 2 2 3 2 1 ...\n",
      " $ season                              : Factor w/ 4 levels \"autumm\",\"spring\",..: 1 1 2 2 1 1 4 3 1 1 ...\n"
     ]
    }
   ],
   "source": [
    "str(hotel_df)"
   ]
  },
  {
   "cell_type": "code",
   "execution_count": 151,
   "id": "523018b2-ccae-4c46-aa5e-775281d92d26",
   "metadata": {},
   "outputs": [
    {
     "name": "stdout",
     "output_type": "stream",
     "text": [
      "tibble [33,418 × 16] (S3: tbl_df/tbl/data.frame)\n",
      " $ no_of_adults                        : num [1:33418] 2 2 2 2 2 2 2 3 2 1 ...\n",
      " $ no_of_children                      : num [1:33418] 0 0 0 0 0 0 0 0 0 0 ...\n",
      " $ no_of_weekend_nights                : num [1:33418] 1 2 0 1 0 1 1 0 0 1 ...\n",
      " $ no_of_week_nights                   : num [1:33418] 2 3 2 1 2 3 3 4 5 0 ...\n",
      " $ type_of_meal_plan                   : Factor w/ 4 levels \"Meal Plan 1\",..: 1 4 1 4 2 1 1 1 1 4 ...\n",
      " $ required_car_parking_space          : num [1:33418] 0 0 0 0 0 0 0 0 0 0 ...\n",
      " $ room_type_reserved                  : Factor w/ 7 levels \"Room_Type 1\",..: 1 1 1 1 1 1 4 1 4 1 ...\n",
      " $ lead_time                           : num [1:33418] 224 5 211 48 346 34 83 121 44 0 ...\n",
      " $ market_segment_type                 : Factor w/ 5 levels \"Aviation\",\"Complementary\",..: 4 5 5 5 5 5 5 4 5 5 ...\n",
      " $ repeated_guest                      : num [1:33418] 0 0 0 0 0 0 0 0 0 0 ...\n",
      " $ no_of_previous_cancellations        : num [1:33418] 0 0 0 0 0 0 0 0 0 0 ...\n",
      " $ no_of_previous_bookings_not_canceled: num [1:33418] 0 0 0 0 0 0 0 0 0 0 ...\n",
      " $ avg_price_per_room                  : num [1:33418] 65 106.7 100 94.5 115 ...\n",
      " $ no_of_special_requests              : num [1:33418] 0 1 0 0 1 1 1 1 3 0 ...\n",
      " $ booking_status                      : Factor w/ 2 levels \"Canceled\",\"Not_Canceled\": 2 2 1 1 1 2 2 2 2 2 ...\n",
      " $ season                              : Factor w/ 4 levels \"autumm\",\"spring\",..: 1 1 2 2 1 1 4 3 1 1 ...\n"
     ]
    }
   ],
   "source": [
    "clean_hotel_df <- hotel_df %>%\n",
    "  select(-Booking_ID, -arrival_year, -arrival_month,\n",
    "         -arrival_date,-arrival_dt, -day_type, \n",
    "         -day_of_week, -total_people)\n",
    "\n",
    "str(clean_hotel_df)"
   ]
  },
  {
   "cell_type": "markdown",
   "id": "c6f195ce-5c60-4625-b46f-a870a3786e82",
   "metadata": {},
   "source": [
    "## Test-Train Split"
   ]
  },
  {
   "cell_type": "code",
   "execution_count": 152,
   "id": "37b2a5b8-ab43-4d43-a797-342d2d0c3713",
   "metadata": {},
   "outputs": [],
   "source": [
    "factor_cols <- c(\"type_of_meal_plan\",\n",
    "         \"room_type_reserved\",\n",
    "         \"market_segment_type\",\n",
    "         \"repeated_guest\",\n",
    "         \"required_car_parking_space\",\n",
    "         \"season\")\n",
    "\n",
    "quant_cols <- c(\"no_of_adults\",\n",
    "         \"no_of_children\",\n",
    "         \"no_of_weekend_nights\",\n",
    "         \"no_of_week_nights\",\n",
    "         \"no_of_previous_cancellations\",\n",
    "         \"no_of_previous_bookings_not_canceled\",\n",
    "         \"no_of_special_requests\",\n",
    "         \"lead_time\",\n",
    "         \"avg_price_per_room\")"
   ]
  },
  {
   "cell_type": "markdown",
   "id": "ef03ce4b-2ea8-42f7-b548-b4d84a8b826b",
   "metadata": {},
   "source": [
    "Split the data into 80% training and 20% testing."
   ]
  },
  {
   "cell_type": "markdown",
   "id": "340a512b-34fe-476a-b61c-fbe4f1854eea",
   "metadata": {},
   "source": [
    "## Center and Scale Data"
   ]
  },
  {
   "cell_type": "code",
   "execution_count": 155,
   "id": "2bab0c3b-d30b-440b-b8bc-83d163bb7563",
   "metadata": {},
   "outputs": [],
   "source": [
    "# Format labels and select features\n",
    "Y = make.names(hotel_df$booking_status)\n",
    "Y = relevel(as.factor(Y), ref=\"Not_Canceled\")\n",
    "X = hotel_df %>%\n",
    "  select(any_of(c(factor_cols, quant_cols)))"
   ]
  },
  {
   "cell_type": "code",
   "execution_count": 157,
   "id": "c887154b-7cfd-4890-8cd6-3a61776cfce0",
   "metadata": {},
   "outputs": [],
   "source": [
    "# Format labels and select features\n",
    "Y = make.names(hotel_df$booking_status)\n",
    "Y = relevel(as.factor(Y), ref=\"Not_Canceled\")\n",
    "X = hotel_df %>%\n",
    "  select(any_of(c(factor_cols, quant_cols)))\n",
    "\n",
    "# Create train-test split\n",
    "set.seed(1)\n",
    "trainSplit = createDataPartition(y = Y, p = 0.8, list = FALSE)\n",
    "\n",
    "Ytrain = Y[trainSplit]\n",
    "Xtrain = X[trainSplit,]\n",
    "Ytest  = Y[-trainSplit]\n",
    "Xtest  = X[-trainSplit,]\n",
    "\n",
    "# Process train data\n",
    "train_factor <- Xtrain %>%\n",
    "  select(any_of(factor_cols)) %>%\n",
    "  mutate_all(factor)\n",
    "\n",
    "train_quant <- Xtrain %>%\n",
    "  select(any_of(quant_cols))\n",
    "\n",
    "# Center and scale continuous variables\n",
    "pre_process_function <- preProcess(train_quant, method=c(\"center\",\"scale\"))\n",
    "processed_train_quant <- predict(pre_process_function, train_quant)\n",
    "processed_Xtrain <- cbind(train_factor, processed_train_quant)\n",
    "\n",
    "# Process test data\n",
    "test_factor <- Xtest %>%\n",
    "  select(any_of(factor_cols)) %>%\n",
    "  mutate_all(factor)\n",
    "\n",
    "test_quant <- Xtest %>%\n",
    "  select(any_of(quant_cols))\n",
    "\n",
    "# Center and scale continuous variables\n",
    "processed_test_quant <- predict(pre_process_function, test_quant)\n",
    "processed_Xtest <- cbind(test_factor, processed_test_quant)\n",
    "\n",
    "# Convert features into matrices for glmnet\n",
    "Xtrain_mat = model.matrix( ~ .-1, processed_Xtrain)\n",
    "Xtest_mat = model.matrix( ~ .-1, processed_Xtest)"
   ]
  },
  {
   "cell_type": "code",
   "execution_count": 158,
   "id": "6c35a32d-a535-41c1-81a9-dbfa594bbdd8",
   "metadata": {},
   "outputs": [
    {
     "data": {
      "text/html": [
       "<table class=\"dataframe\">\n",
       "<caption>A matrix: 6 × 28 of type dbl</caption>\n",
       "<thead>\n",
       "\t<tr><th></th><th scope=col>type_of_meal_planMeal Plan 1</th><th scope=col>type_of_meal_planMeal Plan 2</th><th scope=col>type_of_meal_planMeal Plan 3</th><th scope=col>type_of_meal_planNot Selected</th><th scope=col>room_type_reservedRoom_Type 2</th><th scope=col>room_type_reservedRoom_Type 3</th><th scope=col>room_type_reservedRoom_Type 4</th><th scope=col>room_type_reservedRoom_Type 5</th><th scope=col>room_type_reservedRoom_Type 6</th><th scope=col>room_type_reservedRoom_Type 7</th><th scope=col>⋯</th><th scope=col>seasonwinter</th><th scope=col>no_of_adults</th><th scope=col>no_of_children</th><th scope=col>no_of_weekend_nights</th><th scope=col>no_of_week_nights</th><th scope=col>no_of_previous_cancellations</th><th scope=col>no_of_previous_bookings_not_canceled</th><th scope=col>no_of_special_requests</th><th scope=col>lead_time</th><th scope=col>avg_price_per_room</th></tr>\n",
       "</thead>\n",
       "<tbody>\n",
       "\t<tr><th scope=row>1</th><td>1</td><td>0</td><td>0</td><td>0</td><td>0</td><td>0</td><td>0</td><td>0</td><td>0</td><td>0</td><td>⋯</td><td>0</td><td>0.2926958</td><td>-0.2591334</td><td> 0.2208799</td><td>-0.1517161</td><td>-0.06378754</td><td>-0.08322939</td><td>-0.7919396</td><td> 1.57968987</td><td>-1.12910890</td></tr>\n",
       "\t<tr><th scope=row>2</th><td>0</td><td>0</td><td>0</td><td>1</td><td>0</td><td>0</td><td>0</td><td>0</td><td>0</td><td>0</td><td>⋯</td><td>0</td><td>0.2926958</td><td>-0.2591334</td><td> 1.3737933</td><td> 0.5560364</td><td>-0.06378754</td><td>-0.08322939</td><td> 0.4727701</td><td>-0.95897292</td><td> 0.06473920</td></tr>\n",
       "\t<tr><th scope=row>3</th><td>1</td><td>0</td><td>0</td><td>0</td><td>0</td><td>0</td><td>0</td><td>0</td><td>0</td><td>0</td><td>⋯</td><td>0</td><td>0.2926958</td><td>-0.2591334</td><td>-0.9320336</td><td>-0.1517161</td><td>-0.06378754</td><td>-0.08322939</td><td>-0.7919396</td><td> 1.42899299</td><td>-0.12659730</td></tr>\n",
       "\t<tr><th scope=row>4</th><td>0</td><td>0</td><td>0</td><td>1</td><td>0</td><td>0</td><td>0</td><td>0</td><td>0</td><td>0</td><td>⋯</td><td>0</td><td>0.2926958</td><td>-0.2591334</td><td> 0.2208799</td><td>-0.8594686</td><td>-0.06378754</td><td>-0.08322939</td><td>-0.7919396</td><td>-0.46051401</td><td>-0.28413484</td></tr>\n",
       "\t<tr><th scope=row>5</th><td>1</td><td>0</td><td>0</td><td>0</td><td>0</td><td>0</td><td>0</td><td>0</td><td>0</td><td>0</td><td>⋯</td><td>0</td><td>0.2926958</td><td>-0.2591334</td><td> 0.2208799</td><td> 0.5560364</td><td>-0.06378754</td><td>-0.08322939</td><td> 0.4727701</td><td>-0.62280296</td><td> 0.08965877</td></tr>\n",
       "\t<tr><th scope=row>6</th><td>1</td><td>0</td><td>0</td><td>0</td><td>0</td><td>0</td><td>1</td><td>0</td><td>0</td><td>0</td><td>⋯</td><td>1</td><td>0.2926958</td><td>-0.2591334</td><td> 0.2208799</td><td> 0.5560364</td><td>-0.06378754</td><td>-0.08322939</td><td> 0.4727701</td><td>-0.05479165</td><td> 0.03409099</td></tr>\n",
       "</tbody>\n",
       "</table>\n"
      ],
      "text/latex": [
       "A matrix: 6 × 28 of type dbl\n",
       "\\begin{tabular}{r|lllllllllllllllllllll}\n",
       "  & type\\_of\\_meal\\_planMeal Plan 1 & type\\_of\\_meal\\_planMeal Plan 2 & type\\_of\\_meal\\_planMeal Plan 3 & type\\_of\\_meal\\_planNot Selected & room\\_type\\_reservedRoom\\_Type 2 & room\\_type\\_reservedRoom\\_Type 3 & room\\_type\\_reservedRoom\\_Type 4 & room\\_type\\_reservedRoom\\_Type 5 & room\\_type\\_reservedRoom\\_Type 6 & room\\_type\\_reservedRoom\\_Type 7 & ⋯ & seasonwinter & no\\_of\\_adults & no\\_of\\_children & no\\_of\\_weekend\\_nights & no\\_of\\_week\\_nights & no\\_of\\_previous\\_cancellations & no\\_of\\_previous\\_bookings\\_not\\_canceled & no\\_of\\_special\\_requests & lead\\_time & avg\\_price\\_per\\_room\\\\\n",
       "\\hline\n",
       "\t1 & 1 & 0 & 0 & 0 & 0 & 0 & 0 & 0 & 0 & 0 & ⋯ & 0 & 0.2926958 & -0.2591334 &  0.2208799 & -0.1517161 & -0.06378754 & -0.08322939 & -0.7919396 &  1.57968987 & -1.12910890\\\\\n",
       "\t2 & 0 & 0 & 0 & 1 & 0 & 0 & 0 & 0 & 0 & 0 & ⋯ & 0 & 0.2926958 & -0.2591334 &  1.3737933 &  0.5560364 & -0.06378754 & -0.08322939 &  0.4727701 & -0.95897292 &  0.06473920\\\\\n",
       "\t3 & 1 & 0 & 0 & 0 & 0 & 0 & 0 & 0 & 0 & 0 & ⋯ & 0 & 0.2926958 & -0.2591334 & -0.9320336 & -0.1517161 & -0.06378754 & -0.08322939 & -0.7919396 &  1.42899299 & -0.12659730\\\\\n",
       "\t4 & 0 & 0 & 0 & 1 & 0 & 0 & 0 & 0 & 0 & 0 & ⋯ & 0 & 0.2926958 & -0.2591334 &  0.2208799 & -0.8594686 & -0.06378754 & -0.08322939 & -0.7919396 & -0.46051401 & -0.28413484\\\\\n",
       "\t5 & 1 & 0 & 0 & 0 & 0 & 0 & 0 & 0 & 0 & 0 & ⋯ & 0 & 0.2926958 & -0.2591334 &  0.2208799 &  0.5560364 & -0.06378754 & -0.08322939 &  0.4727701 & -0.62280296 &  0.08965877\\\\\n",
       "\t6 & 1 & 0 & 0 & 0 & 0 & 0 & 1 & 0 & 0 & 0 & ⋯ & 1 & 0.2926958 & -0.2591334 &  0.2208799 &  0.5560364 & -0.06378754 & -0.08322939 &  0.4727701 & -0.05479165 &  0.03409099\\\\\n",
       "\\end{tabular}\n"
      ],
      "text/markdown": [
       "\n",
       "A matrix: 6 × 28 of type dbl\n",
       "\n",
       "| <!--/--> | type_of_meal_planMeal Plan 1 | type_of_meal_planMeal Plan 2 | type_of_meal_planMeal Plan 3 | type_of_meal_planNot Selected | room_type_reservedRoom_Type 2 | room_type_reservedRoom_Type 3 | room_type_reservedRoom_Type 4 | room_type_reservedRoom_Type 5 | room_type_reservedRoom_Type 6 | room_type_reservedRoom_Type 7 | ⋯ | seasonwinter | no_of_adults | no_of_children | no_of_weekend_nights | no_of_week_nights | no_of_previous_cancellations | no_of_previous_bookings_not_canceled | no_of_special_requests | lead_time | avg_price_per_room |\n",
       "|---|---|---|---|---|---|---|---|---|---|---|---|---|---|---|---|---|---|---|---|---|---|\n",
       "| 1 | 1 | 0 | 0 | 0 | 0 | 0 | 0 | 0 | 0 | 0 | ⋯ | 0 | 0.2926958 | -0.2591334 |  0.2208799 | -0.1517161 | -0.06378754 | -0.08322939 | -0.7919396 |  1.57968987 | -1.12910890 |\n",
       "| 2 | 0 | 0 | 0 | 1 | 0 | 0 | 0 | 0 | 0 | 0 | ⋯ | 0 | 0.2926958 | -0.2591334 |  1.3737933 |  0.5560364 | -0.06378754 | -0.08322939 |  0.4727701 | -0.95897292 |  0.06473920 |\n",
       "| 3 | 1 | 0 | 0 | 0 | 0 | 0 | 0 | 0 | 0 | 0 | ⋯ | 0 | 0.2926958 | -0.2591334 | -0.9320336 | -0.1517161 | -0.06378754 | -0.08322939 | -0.7919396 |  1.42899299 | -0.12659730 |\n",
       "| 4 | 0 | 0 | 0 | 1 | 0 | 0 | 0 | 0 | 0 | 0 | ⋯ | 0 | 0.2926958 | -0.2591334 |  0.2208799 | -0.8594686 | -0.06378754 | -0.08322939 | -0.7919396 | -0.46051401 | -0.28413484 |\n",
       "| 5 | 1 | 0 | 0 | 0 | 0 | 0 | 0 | 0 | 0 | 0 | ⋯ | 0 | 0.2926958 | -0.2591334 |  0.2208799 |  0.5560364 | -0.06378754 | -0.08322939 |  0.4727701 | -0.62280296 |  0.08965877 |\n",
       "| 6 | 1 | 0 | 0 | 0 | 0 | 0 | 1 | 0 | 0 | 0 | ⋯ | 1 | 0.2926958 | -0.2591334 |  0.2208799 |  0.5560364 | -0.06378754 | -0.08322939 |  0.4727701 | -0.05479165 |  0.03409099 |\n",
       "\n"
      ],
      "text/plain": [
       "  type_of_meal_planMeal Plan 1 type_of_meal_planMeal Plan 2\n",
       "1 1                            0                           \n",
       "2 0                            0                           \n",
       "3 1                            0                           \n",
       "4 0                            0                           \n",
       "5 1                            0                           \n",
       "6 1                            0                           \n",
       "  type_of_meal_planMeal Plan 3 type_of_meal_planNot Selected\n",
       "1 0                            0                            \n",
       "2 0                            1                            \n",
       "3 0                            0                            \n",
       "4 0                            1                            \n",
       "5 0                            0                            \n",
       "6 0                            0                            \n",
       "  room_type_reservedRoom_Type 2 room_type_reservedRoom_Type 3\n",
       "1 0                             0                            \n",
       "2 0                             0                            \n",
       "3 0                             0                            \n",
       "4 0                             0                            \n",
       "5 0                             0                            \n",
       "6 0                             0                            \n",
       "  room_type_reservedRoom_Type 4 room_type_reservedRoom_Type 5\n",
       "1 0                             0                            \n",
       "2 0                             0                            \n",
       "3 0                             0                            \n",
       "4 0                             0                            \n",
       "5 0                             0                            \n",
       "6 1                             0                            \n",
       "  room_type_reservedRoom_Type 6 room_type_reservedRoom_Type 7 ⋯ seasonwinter\n",
       "1 0                             0                             ⋯ 0           \n",
       "2 0                             0                             ⋯ 0           \n",
       "3 0                             0                             ⋯ 0           \n",
       "4 0                             0                             ⋯ 0           \n",
       "5 0                             0                             ⋯ 0           \n",
       "6 0                             0                             ⋯ 1           \n",
       "  no_of_adults no_of_children no_of_weekend_nights no_of_week_nights\n",
       "1 0.2926958    -0.2591334      0.2208799           -0.1517161       \n",
       "2 0.2926958    -0.2591334      1.3737933            0.5560364       \n",
       "3 0.2926958    -0.2591334     -0.9320336           -0.1517161       \n",
       "4 0.2926958    -0.2591334      0.2208799           -0.8594686       \n",
       "5 0.2926958    -0.2591334      0.2208799            0.5560364       \n",
       "6 0.2926958    -0.2591334      0.2208799            0.5560364       \n",
       "  no_of_previous_cancellations no_of_previous_bookings_not_canceled\n",
       "1 -0.06378754                  -0.08322939                         \n",
       "2 -0.06378754                  -0.08322939                         \n",
       "3 -0.06378754                  -0.08322939                         \n",
       "4 -0.06378754                  -0.08322939                         \n",
       "5 -0.06378754                  -0.08322939                         \n",
       "6 -0.06378754                  -0.08322939                         \n",
       "  no_of_special_requests lead_time   avg_price_per_room\n",
       "1 -0.7919396              1.57968987 -1.12910890       \n",
       "2  0.4727701             -0.95897292  0.06473920       \n",
       "3 -0.7919396              1.42899299 -0.12659730       \n",
       "4 -0.7919396             -0.46051401 -0.28413484       \n",
       "5  0.4727701             -0.62280296  0.08965877       \n",
       "6  0.4727701             -0.05479165  0.03409099       "
      ]
     },
     "metadata": {},
     "output_type": "display_data"
    }
   ],
   "source": [
    "head(Xtrain_mat)"
   ]
  },
  {
   "cell_type": "markdown",
   "id": "c565e3bf-979e-43ee-98b4-74a1bfa7315f",
   "metadata": {},
   "source": [
    "# Fit Model"
   ]
  },
  {
   "cell_type": "markdown",
   "id": "e12a8b30-00ad-49f1-bd02-a81eeb933780",
   "metadata": {},
   "source": [
    "## Elastic-Net"
   ]
  },
  {
   "cell_type": "markdown",
   "id": "6d64e013-107f-4830-9386-db6ec461d179",
   "metadata": {},
   "source": [
    "### Run Elastic-Net Cross-Validation"
   ]
  },
  {
   "cell_type": "code",
   "execution_count": 159,
   "id": "4eebfa8a-f4e1-4a65-953d-2d9d27e54525",
   "metadata": {},
   "outputs": [
    {
     "name": "stderr",
     "output_type": "stream",
     "text": [
      "Warning message in train.default(x = Xtrain_mat, y = Ytrain, method = \"glmnet\", :\n",
      "“The metric \"logLoss\" was not in the result set. Accuracy will be used instead.”\n"
     ]
    }
   ],
   "source": [
    "library(doParallel)\n",
    "cl <- makePSOCKcluster(14)\n",
    "registerDoParallel(cl)\n",
    "\n",
    "ptime <- system.time({set.seed(1)\n",
    "K            = 10\n",
    "trainControl = trainControl(method = \"repeartcv\", repeats = 2, number = K, savePredictions=TRUE,\n",
    "                            classProbs=TRUE)#, summaryFunction=mnLogLoss)\n",
    "tuneGrid     = expand.grid('alpha'=c(0, 0.25, .5, 0.75, 1),'lambda' = c(seq(1,10,2) %o% 10^(-4:1)))\n",
    "\n",
    "elasticOut   = train(x = Xtrain_mat, y = Ytrain,\n",
    "                     method = \"glmnet\", metric=\"logLoss\",\n",
    "                     trControl = trainControl, tuneGrid = tuneGrid)#### Answer 1.1\n",
    "\n",
    "elasticOut$bestTune}\n",
    ")\n",
    "stopCluster(cl)"
   ]
  },
  {
   "cell_type": "code",
   "execution_count": 160,
   "id": "47ac0da6-e569-4baf-9c18-ab074b2622ee",
   "metadata": {},
   "outputs": [
    {
     "data": {
      "text/plain": [
       "   user  system elapsed \n",
       "  4.736   1.318  16.020 "
      ]
     },
     "metadata": {},
     "output_type": "display_data"
    }
   ],
   "source": [
    "ptime"
   ]
  },
  {
   "cell_type": "code",
   "execution_count": 260,
   "id": "453dc834-1117-4cd2-895c-6c3e84edcda8",
   "metadata": {},
   "outputs": [
    {
     "data": {
      "text/html": [
       "<table class=\"dataframe\">\n",
       "<caption>A data.frame: 1 × 2</caption>\n",
       "<thead>\n",
       "\t<tr><th></th><th scope=col>alpha</th><th scope=col>lambda</th></tr>\n",
       "\t<tr><th></th><th scope=col>&lt;dbl&gt;</th><th scope=col>&lt;dbl&gt;</th></tr>\n",
       "</thead>\n",
       "<tbody>\n",
       "\t<tr><th scope=row>32</th><td>0.25</td><td>3e-04</td></tr>\n",
       "</tbody>\n",
       "</table>\n"
      ],
      "text/latex": [
       "A data.frame: 1 × 2\n",
       "\\begin{tabular}{r|ll}\n",
       "  & alpha & lambda\\\\\n",
       "  & <dbl> & <dbl>\\\\\n",
       "\\hline\n",
       "\t32 & 0.25 & 3e-04\\\\\n",
       "\\end{tabular}\n"
      ],
      "text/markdown": [
       "\n",
       "A data.frame: 1 × 2\n",
       "\n",
       "| <!--/--> | alpha &lt;dbl&gt; | lambda &lt;dbl&gt; |\n",
       "|---|---|---|\n",
       "| 32 | 0.25 | 3e-04 |\n",
       "\n"
      ],
      "text/plain": [
       "   alpha lambda\n",
       "32 0.25  3e-04 "
      ]
     },
     "metadata": {},
     "output_type": "display_data"
    }
   ],
   "source": [
    "elasticOut$bestTune"
   ]
  },
  {
   "cell_type": "code",
   "execution_count": 261,
   "id": "67f312ef-d716-4983-b8b8-350baf9ae963",
   "metadata": {
    "tags": []
   },
   "outputs": [
    {
     "data": {
      "text/html": [
       "<table class=\"dataframe\">\n",
       "<caption>A data.frame: 3 × 6</caption>\n",
       "<thead>\n",
       "\t<tr><th></th><th scope=col>alpha</th><th scope=col>lambda</th><th scope=col>Accuracy</th><th scope=col>Kappa</th><th scope=col>AccuracySD</th><th scope=col>KappaSD</th></tr>\n",
       "\t<tr><th></th><th scope=col>&lt;dbl&gt;</th><th scope=col>&lt;dbl&gt;</th><th scope=col>&lt;dbl&gt;</th><th scope=col>&lt;dbl&gt;</th><th scope=col>&lt;dbl&gt;</th><th scope=col>&lt;dbl&gt;</th></tr>\n",
       "</thead>\n",
       "<tbody>\n",
       "\t<tr><th scope=row>31</th><td>0.25</td><td>1e-04</td><td>0.8042635</td><td>0.5452519</td><td>0.006577331</td><td>0.01499163</td></tr>\n",
       "\t<tr><th scope=row>32</th><td>0.25</td><td>3e-04</td><td>0.8043009</td><td>0.5453255</td><td>0.006579337</td><td>0.01500012</td></tr>\n",
       "\t<tr><th scope=row>33</th><td>0.25</td><td>5e-04</td><td>0.8041139</td><td>0.5446401</td><td>0.006584821</td><td>0.01502381</td></tr>\n",
       "</tbody>\n",
       "</table>\n"
      ],
      "text/latex": [
       "A data.frame: 3 × 6\n",
       "\\begin{tabular}{r|llllll}\n",
       "  & alpha & lambda & Accuracy & Kappa & AccuracySD & KappaSD\\\\\n",
       "  & <dbl> & <dbl> & <dbl> & <dbl> & <dbl> & <dbl>\\\\\n",
       "\\hline\n",
       "\t31 & 0.25 & 1e-04 & 0.8042635 & 0.5452519 & 0.006577331 & 0.01499163\\\\\n",
       "\t32 & 0.25 & 3e-04 & 0.8043009 & 0.5453255 & 0.006579337 & 0.01500012\\\\\n",
       "\t33 & 0.25 & 5e-04 & 0.8041139 & 0.5446401 & 0.006584821 & 0.01502381\\\\\n",
       "\\end{tabular}\n"
      ],
      "text/markdown": [
       "\n",
       "A data.frame: 3 × 6\n",
       "\n",
       "| <!--/--> | alpha &lt;dbl&gt; | lambda &lt;dbl&gt; | Accuracy &lt;dbl&gt; | Kappa &lt;dbl&gt; | AccuracySD &lt;dbl&gt; | KappaSD &lt;dbl&gt; |\n",
       "|---|---|---|---|---|---|---|\n",
       "| 31 | 0.25 | 1e-04 | 0.8042635 | 0.5452519 | 0.006577331 | 0.01499163 |\n",
       "| 32 | 0.25 | 3e-04 | 0.8043009 | 0.5453255 | 0.006579337 | 0.01500012 |\n",
       "| 33 | 0.25 | 5e-04 | 0.8041139 | 0.5446401 | 0.006584821 | 0.01502381 |\n",
       "\n"
      ],
      "text/plain": [
       "   alpha lambda Accuracy  Kappa     AccuracySD  KappaSD   \n",
       "31 0.25  1e-04  0.8042635 0.5452519 0.006577331 0.01499163\n",
       "32 0.25  3e-04  0.8043009 0.5453255 0.006579337 0.01500012\n",
       "33 0.25  5e-04  0.8041139 0.5446401 0.006584821 0.01502381"
      ]
     },
     "metadata": {},
     "output_type": "display_data"
    }
   ],
   "source": [
    "elasticOut$results[31:33,]"
   ]
  },
  {
   "cell_type": "code",
   "execution_count": 262,
   "id": "988c4a24-5038-4071-b8d4-f562a4ef4267",
   "metadata": {},
   "outputs": [
    {
     "data": {
      "text/html": [
       "<table class=\"dataframe\">\n",
       "<caption>A data.frame: 7 × 18</caption>\n",
       "<thead>\n",
       "\t<tr><th scope=col>alpha</th><th scope=col>lambda</th><th scope=col>prob_threshold</th><th scope=col>Sensitivity</th><th scope=col>Specificity</th><th scope=col>Pos Pred Value</th><th scope=col>Neg Pred Value</th><th scope=col>Precision</th><th scope=col>Recall</th><th scope=col>F1</th><th scope=col>Prevalence</th><th scope=col>Detection Rate</th><th scope=col>Detection Prevalence</th><th scope=col>Balanced Accuracy</th><th scope=col>Accuracy</th><th scope=col>Kappa</th><th scope=col>J</th><th scope=col>Dist</th></tr>\n",
       "\t<tr><th scope=col>&lt;dbl&gt;</th><th scope=col>&lt;dbl&gt;</th><th scope=col>&lt;dbl&gt;</th><th scope=col>&lt;dbl&gt;</th><th scope=col>&lt;dbl&gt;</th><th scope=col>&lt;dbl&gt;</th><th scope=col>&lt;dbl&gt;</th><th scope=col>&lt;dbl&gt;</th><th scope=col>&lt;dbl&gt;</th><th scope=col>&lt;dbl&gt;</th><th scope=col>&lt;dbl&gt;</th><th scope=col>&lt;dbl&gt;</th><th scope=col>&lt;dbl&gt;</th><th scope=col>&lt;dbl&gt;</th><th scope=col>&lt;dbl&gt;</th><th scope=col>&lt;dbl&gt;</th><th scope=col>&lt;dbl&gt;</th><th scope=col>&lt;dbl&gt;</th></tr>\n",
       "</thead>\n",
       "<tbody>\n",
       "\t<tr><td>0.25</td><td>3e-04</td><td>0.25</td><td>0.9675861</td><td>0.3690883</td><td>0.7544296</td><td>0.8503996</td><td>0.7544296</td><td>0.9675861</td><td>0.8478067</td><td>0.6669908</td><td>0.6453708</td><td>0.8554705</td><td>0.6683372</td><td>0.7682804</td><td>0.3921955</td><td>0.3366744</td><td>0.6317609</td></tr>\n",
       "\t<tr><td>0.25</td><td>3e-04</td><td>0.40</td><td>0.9312466</td><td>0.5298211</td><td>0.7986926</td><td>0.7937657</td><td>0.7986926</td><td>0.9312466</td><td>0.8598821</td><td>0.6669908</td><td>0.6211331</td><td>0.7777073</td><td>0.7305338</td><td>0.7975680</td><td>0.5029036</td><td>0.4610676</td><td>0.4752218</td></tr>\n",
       "\t<tr><td>0.25</td><td>3e-04</td><td>0.50</td><td>0.8843092</td><td>0.6440535</td><td>0.8326810</td><td>0.7355588</td><td>0.8326810</td><td>0.8843092</td><td>0.8577032</td><td>0.6669908</td><td>0.5898258</td><td>0.7083599</td><td>0.7641814</td><td>0.8043009</td><td>0.5453255</td><td>0.5283627</td><td>0.3743512</td></tr>\n",
       "\t<tr><td>0.25</td><td>3e-04</td><td>0.60</td><td>0.8278382</td><td>0.7307663</td><td>0.8603407</td><td>0.6796188</td><td>0.8603407</td><td>0.8278382</td><td>0.8437373</td><td>0.6669908</td><td>0.5521599</td><td>0.6418179</td><td>0.7793022</td><td>0.7955110</td><td>0.5482519</td><td>0.5586045</td><td>0.3198012</td></tr>\n",
       "\t<tr><td>0.25</td><td>3e-04</td><td>0.75</td><td>0.7099040</td><td>0.8455576</td><td>0.9020436</td><td>0.5928197</td><td>0.9020436</td><td>0.7099040</td><td>0.7944791</td><td>0.6669908</td><td>0.4734997</td><td>0.5249307</td><td>0.7777308</td><td>0.7550779</td><td>0.5018988</td><td>0.5554616</td><td>0.3288005</td></tr>\n",
       "\t<tr><td>0.25</td><td>3e-04</td><td>0.80</td><td>0.6490025</td><td>0.8944170</td><td>0.9249271</td><td>0.5600214</td><td>0.9249271</td><td>0.6490025</td><td>0.7627037</td><td>0.6669908</td><td>0.4328792</td><td>0.4680394</td><td>0.7717097</td><td>0.7307282</td><td>0.4727610</td><td>0.5434195</td><td>0.3666886</td></tr>\n",
       "\t<tr><td>0.25</td><td>3e-04</td><td>0.90</td><td>0.4362945</td><td>0.9702342</td><td>0.9671305</td><td>0.4621958</td><td>0.9671305</td><td>0.4362945</td><td>0.6012605</td><td>0.6669908</td><td>0.2910050</td><td>0.3009173</td><td>0.7032644</td><td>0.6141019</td><td>0.3188070</td><td>0.4065287</td><td>0.5645231</td></tr>\n",
       "</tbody>\n",
       "</table>\n"
      ],
      "text/latex": [
       "A data.frame: 7 × 18\n",
       "\\begin{tabular}{llllllllllllllllll}\n",
       " alpha & lambda & prob\\_threshold & Sensitivity & Specificity & Pos Pred Value & Neg Pred Value & Precision & Recall & F1 & Prevalence & Detection Rate & Detection Prevalence & Balanced Accuracy & Accuracy & Kappa & J & Dist\\\\\n",
       " <dbl> & <dbl> & <dbl> & <dbl> & <dbl> & <dbl> & <dbl> & <dbl> & <dbl> & <dbl> & <dbl> & <dbl> & <dbl> & <dbl> & <dbl> & <dbl> & <dbl> & <dbl>\\\\\n",
       "\\hline\n",
       "\t 0.25 & 3e-04 & 0.25 & 0.9675861 & 0.3690883 & 0.7544296 & 0.8503996 & 0.7544296 & 0.9675861 & 0.8478067 & 0.6669908 & 0.6453708 & 0.8554705 & 0.6683372 & 0.7682804 & 0.3921955 & 0.3366744 & 0.6317609\\\\\n",
       "\t 0.25 & 3e-04 & 0.40 & 0.9312466 & 0.5298211 & 0.7986926 & 0.7937657 & 0.7986926 & 0.9312466 & 0.8598821 & 0.6669908 & 0.6211331 & 0.7777073 & 0.7305338 & 0.7975680 & 0.5029036 & 0.4610676 & 0.4752218\\\\\n",
       "\t 0.25 & 3e-04 & 0.50 & 0.8843092 & 0.6440535 & 0.8326810 & 0.7355588 & 0.8326810 & 0.8843092 & 0.8577032 & 0.6669908 & 0.5898258 & 0.7083599 & 0.7641814 & 0.8043009 & 0.5453255 & 0.5283627 & 0.3743512\\\\\n",
       "\t 0.25 & 3e-04 & 0.60 & 0.8278382 & 0.7307663 & 0.8603407 & 0.6796188 & 0.8603407 & 0.8278382 & 0.8437373 & 0.6669908 & 0.5521599 & 0.6418179 & 0.7793022 & 0.7955110 & 0.5482519 & 0.5586045 & 0.3198012\\\\\n",
       "\t 0.25 & 3e-04 & 0.75 & 0.7099040 & 0.8455576 & 0.9020436 & 0.5928197 & 0.9020436 & 0.7099040 & 0.7944791 & 0.6669908 & 0.4734997 & 0.5249307 & 0.7777308 & 0.7550779 & 0.5018988 & 0.5554616 & 0.3288005\\\\\n",
       "\t 0.25 & 3e-04 & 0.80 & 0.6490025 & 0.8944170 & 0.9249271 & 0.5600214 & 0.9249271 & 0.6490025 & 0.7627037 & 0.6669908 & 0.4328792 & 0.4680394 & 0.7717097 & 0.7307282 & 0.4727610 & 0.5434195 & 0.3666886\\\\\n",
       "\t 0.25 & 3e-04 & 0.90 & 0.4362945 & 0.9702342 & 0.9671305 & 0.4621958 & 0.9671305 & 0.4362945 & 0.6012605 & 0.6669908 & 0.2910050 & 0.3009173 & 0.7032644 & 0.6141019 & 0.3188070 & 0.4065287 & 0.5645231\\\\\n",
       "\\end{tabular}\n"
      ],
      "text/markdown": [
       "\n",
       "A data.frame: 7 × 18\n",
       "\n",
       "| alpha &lt;dbl&gt; | lambda &lt;dbl&gt; | prob_threshold &lt;dbl&gt; | Sensitivity &lt;dbl&gt; | Specificity &lt;dbl&gt; | Pos Pred Value &lt;dbl&gt; | Neg Pred Value &lt;dbl&gt; | Precision &lt;dbl&gt; | Recall &lt;dbl&gt; | F1 &lt;dbl&gt; | Prevalence &lt;dbl&gt; | Detection Rate &lt;dbl&gt; | Detection Prevalence &lt;dbl&gt; | Balanced Accuracy &lt;dbl&gt; | Accuracy &lt;dbl&gt; | Kappa &lt;dbl&gt; | J &lt;dbl&gt; | Dist &lt;dbl&gt; |\n",
       "|---|---|---|---|---|---|---|---|---|---|---|---|---|---|---|---|---|---|\n",
       "| 0.25 | 3e-04 | 0.25 | 0.9675861 | 0.3690883 | 0.7544296 | 0.8503996 | 0.7544296 | 0.9675861 | 0.8478067 | 0.6669908 | 0.6453708 | 0.8554705 | 0.6683372 | 0.7682804 | 0.3921955 | 0.3366744 | 0.6317609 |\n",
       "| 0.25 | 3e-04 | 0.40 | 0.9312466 | 0.5298211 | 0.7986926 | 0.7937657 | 0.7986926 | 0.9312466 | 0.8598821 | 0.6669908 | 0.6211331 | 0.7777073 | 0.7305338 | 0.7975680 | 0.5029036 | 0.4610676 | 0.4752218 |\n",
       "| 0.25 | 3e-04 | 0.50 | 0.8843092 | 0.6440535 | 0.8326810 | 0.7355588 | 0.8326810 | 0.8843092 | 0.8577032 | 0.6669908 | 0.5898258 | 0.7083599 | 0.7641814 | 0.8043009 | 0.5453255 | 0.5283627 | 0.3743512 |\n",
       "| 0.25 | 3e-04 | 0.60 | 0.8278382 | 0.7307663 | 0.8603407 | 0.6796188 | 0.8603407 | 0.8278382 | 0.8437373 | 0.6669908 | 0.5521599 | 0.6418179 | 0.7793022 | 0.7955110 | 0.5482519 | 0.5586045 | 0.3198012 |\n",
       "| 0.25 | 3e-04 | 0.75 | 0.7099040 | 0.8455576 | 0.9020436 | 0.5928197 | 0.9020436 | 0.7099040 | 0.7944791 | 0.6669908 | 0.4734997 | 0.5249307 | 0.7777308 | 0.7550779 | 0.5018988 | 0.5554616 | 0.3288005 |\n",
       "| 0.25 | 3e-04 | 0.80 | 0.6490025 | 0.8944170 | 0.9249271 | 0.5600214 | 0.9249271 | 0.6490025 | 0.7627037 | 0.6669908 | 0.4328792 | 0.4680394 | 0.7717097 | 0.7307282 | 0.4727610 | 0.5434195 | 0.3666886 |\n",
       "| 0.25 | 3e-04 | 0.90 | 0.4362945 | 0.9702342 | 0.9671305 | 0.4621958 | 0.9671305 | 0.4362945 | 0.6012605 | 0.6669908 | 0.2910050 | 0.3009173 | 0.7032644 | 0.6141019 | 0.3188070 | 0.4065287 | 0.5645231 |\n",
       "\n"
      ],
      "text/plain": [
       "  alpha lambda prob_threshold Sensitivity Specificity Pos Pred Value\n",
       "1 0.25  3e-04  0.25           0.9675861   0.3690883   0.7544296     \n",
       "2 0.25  3e-04  0.40           0.9312466   0.5298211   0.7986926     \n",
       "3 0.25  3e-04  0.50           0.8843092   0.6440535   0.8326810     \n",
       "4 0.25  3e-04  0.60           0.8278382   0.7307663   0.8603407     \n",
       "5 0.25  3e-04  0.75           0.7099040   0.8455576   0.9020436     \n",
       "6 0.25  3e-04  0.80           0.6490025   0.8944170   0.9249271     \n",
       "7 0.25  3e-04  0.90           0.4362945   0.9702342   0.9671305     \n",
       "  Neg Pred Value Precision Recall    F1        Prevalence Detection Rate\n",
       "1 0.8503996      0.7544296 0.9675861 0.8478067 0.6669908  0.6453708     \n",
       "2 0.7937657      0.7986926 0.9312466 0.8598821 0.6669908  0.6211331     \n",
       "3 0.7355588      0.8326810 0.8843092 0.8577032 0.6669908  0.5898258     \n",
       "4 0.6796188      0.8603407 0.8278382 0.8437373 0.6669908  0.5521599     \n",
       "5 0.5928197      0.9020436 0.7099040 0.7944791 0.6669908  0.4734997     \n",
       "6 0.5600214      0.9249271 0.6490025 0.7627037 0.6669908  0.4328792     \n",
       "7 0.4621958      0.9671305 0.4362945 0.6012605 0.6669908  0.2910050     \n",
       "  Detection Prevalence Balanced Accuracy Accuracy  Kappa     J        \n",
       "1 0.8554705            0.6683372         0.7682804 0.3921955 0.3366744\n",
       "2 0.7777073            0.7305338         0.7975680 0.5029036 0.4610676\n",
       "3 0.7083599            0.7641814         0.8043009 0.5453255 0.5283627\n",
       "4 0.6418179            0.7793022         0.7955110 0.5482519 0.5586045\n",
       "5 0.5249307            0.7777308         0.7550779 0.5018988 0.5554616\n",
       "6 0.4680394            0.7717097         0.7307282 0.4727610 0.5434195\n",
       "7 0.3009173            0.7032644         0.6141019 0.3188070 0.4065287\n",
       "  Dist     \n",
       "1 0.6317609\n",
       "2 0.4752218\n",
       "3 0.3743512\n",
       "4 0.3198012\n",
       "5 0.3288005\n",
       "6 0.3666886\n",
       "7 0.5645231"
      ]
     },
     "metadata": {},
     "output_type": "display_data"
    }
   ],
   "source": [
    "# Test thresholds\n",
    "thresholder(elasticOut, c(0.25,0.4,0.5,0.6,0.75,0.8,0.9))"
   ]
  },
  {
   "cell_type": "code",
   "execution_count": 668,
   "id": "8690b925-c280-49fe-97dd-883da384a9ef",
   "metadata": {},
   "outputs": [],
   "source": [
    "saveRDS(elasticOut, \"models/elasticnet_cv.rds\")"
   ]
  },
  {
   "cell_type": "markdown",
   "id": "439a8d54-834e-4153-8025-25ae7a4f771d",
   "metadata": {},
   "source": [
    "### Refit Elastic-Net"
   ]
  },
  {
   "cell_type": "code",
   "execution_count": 669,
   "id": "4ed315bc-ad8e-476e-bc5e-1ef130ec732a",
   "metadata": {},
   "outputs": [],
   "source": [
    "glmnetOut <- glmnet(x=Xtrain_mat, y=Ytrain, \n",
    "                    alpha=elasticOut$bestTune$alpha, \n",
    "                    lambda=elasticOut$bestTune$lambda,\n",
    "                    family=\"binomial\", standardize=FALSE)\n",
    "saveRDS(glmnetOut, \"models/final_glmnet.rds\")"
   ]
  },
  {
   "cell_type": "code",
   "execution_count": 670,
   "id": "09f2708f-1d04-49a9-8123-d9b048f33cd0",
   "metadata": {
    "tags": []
   },
   "outputs": [
    {
     "data": {
      "text/plain": [
       "29 x 1 sparse Matrix of class \"dgCMatrix\"\n",
       "                                              s1\n",
       "(Intercept)                          -0.77890471\n",
       "type_of_meal_planMeal Plan 1         -0.12599530\n",
       "type_of_meal_planMeal Plan 2          .         \n",
       "type_of_meal_planMeal Plan 3          .         \n",
       "type_of_meal_planNot Selected         0.14673776\n",
       "room_type_reservedRoom_Type 2        -0.23496382\n",
       "room_type_reservedRoom_Type 3         .         \n",
       "room_type_reservedRoom_Type 4        -0.15126791\n",
       "room_type_reservedRoom_Type 5        -0.61346262\n",
       "room_type_reservedRoom_Type 6        -0.77441205\n",
       "room_type_reservedRoom_Type 7        -0.67730261\n",
       "market_segment_typeComplementary     -0.47456691\n",
       "market_segment_typeCorporate         -0.07337905\n",
       "market_segment_typeOffline           -1.28529121\n",
       "market_segment_typeOnline             0.56356236\n",
       "repeated_guest1                      -1.05112326\n",
       "required_car_parking_space1          -1.29009347\n",
       "seasonspring                          0.09641026\n",
       "seasonsummer                         -0.01859320\n",
       "seasonwinter                         -1.49636639\n",
       "no_of_adults                          0.07626463\n",
       "no_of_children                        0.09445068\n",
       "no_of_weekend_nights                  0.09229638\n",
       "no_of_week_nights                     0.09746010\n",
       "no_of_previous_cancellations          0.05828738\n",
       "no_of_previous_bookings_not_canceled -0.20477380\n",
       "no_of_special_requests               -1.18016809\n",
       "lead_time                             1.39072249\n",
       "avg_price_per_room                    0.58252315"
      ]
     },
     "metadata": {},
     "output_type": "display_data"
    }
   ],
   "source": [
    "coef(glmnetOut, s=elasticOut$bestTune$lambda)"
   ]
  },
  {
   "cell_type": "code",
   "execution_count": 373,
   "id": "1373f5b9-3259-43a4-a5c9-26f1a62f6ebe",
   "metadata": {},
   "outputs": [
    {
     "data": {
      "text/html": [
       "0.802805311389564"
      ],
      "text/latex": [
       "0.802805311389564"
      ],
      "text/markdown": [
       "0.802805311389564"
      ],
      "text/plain": [
       "[1] 0.8028053"
      ]
     },
     "metadata": {},
     "output_type": "display_data"
    }
   ],
   "source": [
    "probHatTrain <- predict(glmnetOut, Xtrain_mat, s=elasticOut$bestTune$lambda, type=\"response\")\n",
    "YhatTrainGlmnet <- ifelse(probHatTrain >0.5, \"Canceled\", \"Not_Canceled\")\n",
    "mean(YhatTrainGlmnet[,\"s1\"] == Ytrain)"
   ]
  },
  {
   "cell_type": "markdown",
   "id": "061d5462-472b-4089-8323-f47976c53e2b",
   "metadata": {
    "tags": []
   },
   "source": [
    "## XGBoost"
   ]
  },
  {
   "cell_type": "code",
   "execution_count": 287,
   "id": "5ca9388a-6db2-421b-a088-9cb35e62483a",
   "metadata": {},
   "outputs": [],
   "source": [
    "require(xgboost)"
   ]
  },
  {
   "cell_type": "markdown",
   "id": "174ace4b-8b6e-4c27-af0a-f49c32abc65a",
   "metadata": {},
   "source": [
    "### XGBoost Cross-Validation"
   ]
  },
  {
   "cell_type": "code",
   "execution_count": 253,
   "id": "993c112d-4977-4bc4-ac35-46c10ad41131",
   "metadata": {},
   "outputs": [],
   "source": [
    "library(doParallel)\n",
    "cl <- makePSOCKcluster(14)\n",
    "registerDoParallel(cl)\n",
    "\n",
    "ptime <- system.time({\n",
    "    set.seed(1)\n",
    "    \n",
    "    K<-10\n",
    "    trControl = trainControl(method = \"cv\", number = K, classProbs=TRUE, savePredictions = TRUE)\n",
    "\n",
    "    tuneGrid = expand.grid('nrounds'=1000,'max_depth' = 3,\n",
    "                      'eta' = 0.05, 'gamma' = 0,'colsample_bytree' = 1,\n",
    "                      'min_child_weight' = 0,'subsample' = 0.5\n",
    "                      )\n",
    "\n",
    "    boostOut = train(x = Xtrain_mat, y = Ytrain,\n",
    "    method = \"xgbTree\",\n",
    "    tuneGrid = tuneGrid,\n",
    "    trControl = trControl)\n",
    "})\n",
    "\n",
    "stopCluster(cl)"
   ]
  },
  {
   "cell_type": "code",
   "execution_count": 278,
   "id": "d0c28670-b0da-4fdc-9095-4634a66459dd",
   "metadata": {},
   "outputs": [
    {
     "data": {
      "text/plain": [
       "    user   system  elapsed \n",
       " 130.879    0.210 1799.081 "
      ]
     },
     "metadata": {},
     "output_type": "display_data"
    }
   ],
   "source": [
    "ptime"
   ]
  },
  {
   "cell_type": "code",
   "execution_count": 275,
   "id": "1a2bcb29-f478-4791-8821-e46c1d1a3e8e",
   "metadata": {},
   "outputs": [
    {
     "data": {
      "text/html": [
       "0.88251355900505"
      ],
      "text/latex": [
       "0.88251355900505"
      ],
      "text/markdown": [
       "0.88251355900505"
      ],
      "text/plain": [
       "[1] 0.8825136"
      ]
     },
     "metadata": {},
     "output_type": "display_data"
    }
   ],
   "source": [
    "boostTrainPreds <- predict(boostOut, Xtrain_mat,type=\"raw\")\n",
    "mean(boostTrainPreds == Ytrain)"
   ]
  },
  {
   "cell_type": "code",
   "execution_count": 257,
   "id": "ed526571-1739-4858-bf68-8387f5a5ded5",
   "metadata": {},
   "outputs": [
    {
     "data": {
      "text/html": [
       "<table class=\"dataframe\">\n",
       "<caption>A data.frame: 1 × 11</caption>\n",
       "<thead>\n",
       "\t<tr><th></th><th scope=col>nrounds</th><th scope=col>max_depth</th><th scope=col>eta</th><th scope=col>gamma</th><th scope=col>colsample_bytree</th><th scope=col>min_child_weight</th><th scope=col>subsample</th><th scope=col>Accuracy</th><th scope=col>Kappa</th><th scope=col>AccuracySD</th><th scope=col>KappaSD</th></tr>\n",
       "\t<tr><th></th><th scope=col>&lt;dbl&gt;</th><th scope=col>&lt;dbl&gt;</th><th scope=col>&lt;dbl&gt;</th><th scope=col>&lt;dbl&gt;</th><th scope=col>&lt;dbl&gt;</th><th scope=col>&lt;dbl&gt;</th><th scope=col>&lt;dbl&gt;</th><th scope=col>&lt;dbl&gt;</th><th scope=col>&lt;dbl&gt;</th><th scope=col>&lt;dbl&gt;</th><th scope=col>&lt;dbl&gt;</th></tr>\n",
       "</thead>\n",
       "<tbody>\n",
       "\t<tr><th scope=row>1</th><td>1000</td><td>3</td><td>0.05</td><td>0</td><td>1</td><td>0</td><td>0.5</td><td>0.8736106</td><td>0.7087323</td><td>0.007458487</td><td>0.0176732</td></tr>\n",
       "</tbody>\n",
       "</table>\n"
      ],
      "text/latex": [
       "A data.frame: 1 × 11\n",
       "\\begin{tabular}{r|lllllllllll}\n",
       "  & nrounds & max\\_depth & eta & gamma & colsample\\_bytree & min\\_child\\_weight & subsample & Accuracy & Kappa & AccuracySD & KappaSD\\\\\n",
       "  & <dbl> & <dbl> & <dbl> & <dbl> & <dbl> & <dbl> & <dbl> & <dbl> & <dbl> & <dbl> & <dbl>\\\\\n",
       "\\hline\n",
       "\t1 & 1000 & 3 & 0.05 & 0 & 1 & 0 & 0.5 & 0.8736106 & 0.7087323 & 0.007458487 & 0.0176732\\\\\n",
       "\\end{tabular}\n"
      ],
      "text/markdown": [
       "\n",
       "A data.frame: 1 × 11\n",
       "\n",
       "| <!--/--> | nrounds &lt;dbl&gt; | max_depth &lt;dbl&gt; | eta &lt;dbl&gt; | gamma &lt;dbl&gt; | colsample_bytree &lt;dbl&gt; | min_child_weight &lt;dbl&gt; | subsample &lt;dbl&gt; | Accuracy &lt;dbl&gt; | Kappa &lt;dbl&gt; | AccuracySD &lt;dbl&gt; | KappaSD &lt;dbl&gt; |\n",
       "|---|---|---|---|---|---|---|---|---|---|---|---|\n",
       "| 1 | 1000 | 3 | 0.05 | 0 | 1 | 0 | 0.5 | 0.8736106 | 0.7087323 | 0.007458487 | 0.0176732 |\n",
       "\n"
      ],
      "text/plain": [
       "  nrounds max_depth eta  gamma colsample_bytree min_child_weight subsample\n",
       "1 1000    3         0.05 0     1                0                0.5      \n",
       "  Accuracy  Kappa     AccuracySD  KappaSD  \n",
       "1 0.8736106 0.7087323 0.007458487 0.0176732"
      ]
     },
     "metadata": {},
     "output_type": "display_data"
    }
   ],
   "source": [
    "boostOut$results"
   ]
  },
  {
   "cell_type": "code",
   "execution_count": 258,
   "id": "3bab520d-617b-422d-b3de-244c59a4d0ce",
   "metadata": {},
   "outputs": [
    {
     "data": {
      "text/html": [
       "<table class=\"dataframe\">\n",
       "<caption>A data.frame: 7 × 23</caption>\n",
       "<thead>\n",
       "\t<tr><th scope=col>nrounds</th><th scope=col>max_depth</th><th scope=col>eta</th><th scope=col>gamma</th><th scope=col>colsample_bytree</th><th scope=col>min_child_weight</th><th scope=col>subsample</th><th scope=col>prob_threshold</th><th scope=col>Sensitivity</th><th scope=col>Specificity</th><th scope=col>⋯</th><th scope=col>Recall</th><th scope=col>F1</th><th scope=col>Prevalence</th><th scope=col>Detection Rate</th><th scope=col>Detection Prevalence</th><th scope=col>Balanced Accuracy</th><th scope=col>Accuracy</th><th scope=col>Kappa</th><th scope=col>J</th><th scope=col>Dist</th></tr>\n",
       "\t<tr><th scope=col>&lt;dbl&gt;</th><th scope=col>&lt;dbl&gt;</th><th scope=col>&lt;dbl&gt;</th><th scope=col>&lt;dbl&gt;</th><th scope=col>&lt;dbl&gt;</th><th scope=col>&lt;dbl&gt;</th><th scope=col>&lt;dbl&gt;</th><th scope=col>&lt;dbl&gt;</th><th scope=col>&lt;dbl&gt;</th><th scope=col>&lt;dbl&gt;</th><th scope=col>⋯</th><th scope=col>&lt;dbl&gt;</th><th scope=col>&lt;dbl&gt;</th><th scope=col>&lt;dbl&gt;</th><th scope=col>&lt;dbl&gt;</th><th scope=col>&lt;dbl&gt;</th><th scope=col>&lt;dbl&gt;</th><th scope=col>&lt;dbl&gt;</th><th scope=col>&lt;dbl&gt;</th><th scope=col>&lt;dbl&gt;</th><th scope=col>&lt;dbl&gt;</th></tr>\n",
       "</thead>\n",
       "<tbody>\n",
       "\t<tr><td>1000</td><td>3</td><td>0.05</td><td>0</td><td>1</td><td>0</td><td>0.5</td><td>0.25</td><td>0.9829518</td><td>0.5489151</td><td>⋯</td><td>0.9829518</td><td>0.8903041</td><td>0.6669908</td><td>0.6556198</td><td>0.8058353</td><td>0.7659334</td><td>0.8384135</td><td>0.5937540</td><td>0.5318669</td><td>0.4514262</td></tr>\n",
       "\t<tr><td>1000</td><td>3</td><td>0.05</td><td>0</td><td>1</td><td>0</td><td>0.5</td><td>0.40</td><td>0.9523324</td><td>0.7081842</td><td>⋯</td><td>0.9523324</td><td>0.9078358</td><td>0.6669908</td><td>0.6351972</td><td>0.7323738</td><td>0.8302583</td><td>0.8710297</td><td>0.6946557</td><td>0.6605167</td><td>0.2957562</td></tr>\n",
       "\t<tr><td>1000</td><td>3</td><td>0.05</td><td>0</td><td>1</td><td>0</td><td>0.5</td><td>0.50</td><td>0.9282746</td><td>0.7641201</td><td>⋯</td><td>0.9282746</td><td>0.9073920</td><td>0.6669908</td><td>0.6191509</td><td>0.6977004</td><td>0.8461973</td><td>0.8736106</td><td>0.7087323</td><td>0.6923947</td><td>0.2465992</td></tr>\n",
       "\t<tr><td>1000</td><td>3</td><td>0.05</td><td>0</td><td>1</td><td>0</td><td>0.5</td><td>0.60</td><td>0.9001791</td><td>0.8046688</td><td>⋯</td><td>0.9001791</td><td>0.9012111</td><td>0.6669908</td><td>0.6004117</td><td>0.6654582</td><td>0.8524239</td><td>0.8683743</td><td>0.7040351</td><td>0.7048479</td><td>0.2195429</td></tr>\n",
       "\t<tr><td>1000</td><td>3</td><td>0.05</td><td>0</td><td>1</td><td>0</td><td>0.5</td><td>0.75</td><td>0.8046208</td><td>0.8848680</td><td>⋯</td><td>0.8046208</td><td>0.8641618</td><td>0.6669908</td><td>0.5366756</td><td>0.5750153</td><td>0.8447444</td><td>0.8313450</td><td>0.6449567</td><td>0.6894889</td><td>0.2271462</td></tr>\n",
       "\t<tr><td>1000</td><td>3</td><td>0.05</td><td>0</td><td>1</td><td>0</td><td>0.5</td><td>0.80</td><td>0.7388969</td><td>0.9185634</td><td>⋯</td><td>0.7388969</td><td>0.8303802</td><td>0.6669908</td><td>0.4928383</td><td>0.5199568</td><td>0.8287302</td><td>0.7987289</td><td>0.5920649</td><td>0.6574604</td><td>0.2737868</td></tr>\n",
       "\t<tr><td>1000</td><td>3</td><td>0.05</td><td>0</td><td>1</td><td>0</td><td>0.5</td><td>0.90</td><td>0.5696510</td><td>0.9769746</td><td>⋯</td><td>0.5696510</td><td>0.7204860</td><td>0.6669908</td><td>0.3799524</td><td>0.3876203</td><td>0.7733128</td><td>0.7052937</td><td>0.4517925</td><td>0.5466256</td><td>0.4309894</td></tr>\n",
       "</tbody>\n",
       "</table>\n"
      ],
      "text/latex": [
       "A data.frame: 7 × 23\n",
       "\\begin{tabular}{lllllllllllllllllllll}\n",
       " nrounds & max\\_depth & eta & gamma & colsample\\_bytree & min\\_child\\_weight & subsample & prob\\_threshold & Sensitivity & Specificity & ⋯ & Recall & F1 & Prevalence & Detection Rate & Detection Prevalence & Balanced Accuracy & Accuracy & Kappa & J & Dist\\\\\n",
       " <dbl> & <dbl> & <dbl> & <dbl> & <dbl> & <dbl> & <dbl> & <dbl> & <dbl> & <dbl> & ⋯ & <dbl> & <dbl> & <dbl> & <dbl> & <dbl> & <dbl> & <dbl> & <dbl> & <dbl> & <dbl>\\\\\n",
       "\\hline\n",
       "\t 1000 & 3 & 0.05 & 0 & 1 & 0 & 0.5 & 0.25 & 0.9829518 & 0.5489151 & ⋯ & 0.9829518 & 0.8903041 & 0.6669908 & 0.6556198 & 0.8058353 & 0.7659334 & 0.8384135 & 0.5937540 & 0.5318669 & 0.4514262\\\\\n",
       "\t 1000 & 3 & 0.05 & 0 & 1 & 0 & 0.5 & 0.40 & 0.9523324 & 0.7081842 & ⋯ & 0.9523324 & 0.9078358 & 0.6669908 & 0.6351972 & 0.7323738 & 0.8302583 & 0.8710297 & 0.6946557 & 0.6605167 & 0.2957562\\\\\n",
       "\t 1000 & 3 & 0.05 & 0 & 1 & 0 & 0.5 & 0.50 & 0.9282746 & 0.7641201 & ⋯ & 0.9282746 & 0.9073920 & 0.6669908 & 0.6191509 & 0.6977004 & 0.8461973 & 0.8736106 & 0.7087323 & 0.6923947 & 0.2465992\\\\\n",
       "\t 1000 & 3 & 0.05 & 0 & 1 & 0 & 0.5 & 0.60 & 0.9001791 & 0.8046688 & ⋯ & 0.9001791 & 0.9012111 & 0.6669908 & 0.6004117 & 0.6654582 & 0.8524239 & 0.8683743 & 0.7040351 & 0.7048479 & 0.2195429\\\\\n",
       "\t 1000 & 3 & 0.05 & 0 & 1 & 0 & 0.5 & 0.75 & 0.8046208 & 0.8848680 & ⋯ & 0.8046208 & 0.8641618 & 0.6669908 & 0.5366756 & 0.5750153 & 0.8447444 & 0.8313450 & 0.6449567 & 0.6894889 & 0.2271462\\\\\n",
       "\t 1000 & 3 & 0.05 & 0 & 1 & 0 & 0.5 & 0.80 & 0.7388969 & 0.9185634 & ⋯ & 0.7388969 & 0.8303802 & 0.6669908 & 0.4928383 & 0.5199568 & 0.8287302 & 0.7987289 & 0.5920649 & 0.6574604 & 0.2737868\\\\\n",
       "\t 1000 & 3 & 0.05 & 0 & 1 & 0 & 0.5 & 0.90 & 0.5696510 & 0.9769746 & ⋯ & 0.5696510 & 0.7204860 & 0.6669908 & 0.3799524 & 0.3876203 & 0.7733128 & 0.7052937 & 0.4517925 & 0.5466256 & 0.4309894\\\\\n",
       "\\end{tabular}\n"
      ],
      "text/markdown": [
       "\n",
       "A data.frame: 7 × 23\n",
       "\n",
       "| nrounds &lt;dbl&gt; | max_depth &lt;dbl&gt; | eta &lt;dbl&gt; | gamma &lt;dbl&gt; | colsample_bytree &lt;dbl&gt; | min_child_weight &lt;dbl&gt; | subsample &lt;dbl&gt; | prob_threshold &lt;dbl&gt; | Sensitivity &lt;dbl&gt; | Specificity &lt;dbl&gt; | ⋯ ⋯ | Recall &lt;dbl&gt; | F1 &lt;dbl&gt; | Prevalence &lt;dbl&gt; | Detection Rate &lt;dbl&gt; | Detection Prevalence &lt;dbl&gt; | Balanced Accuracy &lt;dbl&gt; | Accuracy &lt;dbl&gt; | Kappa &lt;dbl&gt; | J &lt;dbl&gt; | Dist &lt;dbl&gt; |\n",
       "|---|---|---|---|---|---|---|---|---|---|---|---|---|---|---|---|---|---|---|---|---|\n",
       "| 1000 | 3 | 0.05 | 0 | 1 | 0 | 0.5 | 0.25 | 0.9829518 | 0.5489151 | ⋯ | 0.9829518 | 0.8903041 | 0.6669908 | 0.6556198 | 0.8058353 | 0.7659334 | 0.8384135 | 0.5937540 | 0.5318669 | 0.4514262 |\n",
       "| 1000 | 3 | 0.05 | 0 | 1 | 0 | 0.5 | 0.40 | 0.9523324 | 0.7081842 | ⋯ | 0.9523324 | 0.9078358 | 0.6669908 | 0.6351972 | 0.7323738 | 0.8302583 | 0.8710297 | 0.6946557 | 0.6605167 | 0.2957562 |\n",
       "| 1000 | 3 | 0.05 | 0 | 1 | 0 | 0.5 | 0.50 | 0.9282746 | 0.7641201 | ⋯ | 0.9282746 | 0.9073920 | 0.6669908 | 0.6191509 | 0.6977004 | 0.8461973 | 0.8736106 | 0.7087323 | 0.6923947 | 0.2465992 |\n",
       "| 1000 | 3 | 0.05 | 0 | 1 | 0 | 0.5 | 0.60 | 0.9001791 | 0.8046688 | ⋯ | 0.9001791 | 0.9012111 | 0.6669908 | 0.6004117 | 0.6654582 | 0.8524239 | 0.8683743 | 0.7040351 | 0.7048479 | 0.2195429 |\n",
       "| 1000 | 3 | 0.05 | 0 | 1 | 0 | 0.5 | 0.75 | 0.8046208 | 0.8848680 | ⋯ | 0.8046208 | 0.8641618 | 0.6669908 | 0.5366756 | 0.5750153 | 0.8447444 | 0.8313450 | 0.6449567 | 0.6894889 | 0.2271462 |\n",
       "| 1000 | 3 | 0.05 | 0 | 1 | 0 | 0.5 | 0.80 | 0.7388969 | 0.9185634 | ⋯ | 0.7388969 | 0.8303802 | 0.6669908 | 0.4928383 | 0.5199568 | 0.8287302 | 0.7987289 | 0.5920649 | 0.6574604 | 0.2737868 |\n",
       "| 1000 | 3 | 0.05 | 0 | 1 | 0 | 0.5 | 0.90 | 0.5696510 | 0.9769746 | ⋯ | 0.5696510 | 0.7204860 | 0.6669908 | 0.3799524 | 0.3876203 | 0.7733128 | 0.7052937 | 0.4517925 | 0.5466256 | 0.4309894 |\n",
       "\n"
      ],
      "text/plain": [
       "  nrounds max_depth eta  gamma colsample_bytree min_child_weight subsample\n",
       "1 1000    3         0.05 0     1                0                0.5      \n",
       "2 1000    3         0.05 0     1                0                0.5      \n",
       "3 1000    3         0.05 0     1                0                0.5      \n",
       "4 1000    3         0.05 0     1                0                0.5      \n",
       "5 1000    3         0.05 0     1                0                0.5      \n",
       "6 1000    3         0.05 0     1                0                0.5      \n",
       "7 1000    3         0.05 0     1                0                0.5      \n",
       "  prob_threshold Sensitivity Specificity ⋯ Recall    F1        Prevalence\n",
       "1 0.25           0.9829518   0.5489151   ⋯ 0.9829518 0.8903041 0.6669908 \n",
       "2 0.40           0.9523324   0.7081842   ⋯ 0.9523324 0.9078358 0.6669908 \n",
       "3 0.50           0.9282746   0.7641201   ⋯ 0.9282746 0.9073920 0.6669908 \n",
       "4 0.60           0.9001791   0.8046688   ⋯ 0.9001791 0.9012111 0.6669908 \n",
       "5 0.75           0.8046208   0.8848680   ⋯ 0.8046208 0.8641618 0.6669908 \n",
       "6 0.80           0.7388969   0.9185634   ⋯ 0.7388969 0.8303802 0.6669908 \n",
       "7 0.90           0.5696510   0.9769746   ⋯ 0.5696510 0.7204860 0.6669908 \n",
       "  Detection Rate Detection Prevalence Balanced Accuracy Accuracy  Kappa    \n",
       "1 0.6556198      0.8058353            0.7659334         0.8384135 0.5937540\n",
       "2 0.6351972      0.7323738            0.8302583         0.8710297 0.6946557\n",
       "3 0.6191509      0.6977004            0.8461973         0.8736106 0.7087323\n",
       "4 0.6004117      0.6654582            0.8524239         0.8683743 0.7040351\n",
       "5 0.5366756      0.5750153            0.8447444         0.8313450 0.6449567\n",
       "6 0.4928383      0.5199568            0.8287302         0.7987289 0.5920649\n",
       "7 0.3799524      0.3876203            0.7733128         0.7052937 0.4517925\n",
       "  J         Dist     \n",
       "1 0.5318669 0.4514262\n",
       "2 0.6605167 0.2957562\n",
       "3 0.6923947 0.2465992\n",
       "4 0.7048479 0.2195429\n",
       "5 0.6894889 0.2271462\n",
       "6 0.6574604 0.2737868\n",
       "7 0.5466256 0.4309894"
      ]
     },
     "metadata": {},
     "output_type": "display_data"
    }
   ],
   "source": [
    "# Test thresholds\n",
    "thresholder(boostOut, c(0.25,0.4,0.5,0.6,0.75,0.8,0.9))"
   ]
  },
  {
   "cell_type": "code",
   "execution_count": 286,
   "id": "c106fd4e-dc0f-438a-9c41-0d08d68492cf",
   "metadata": {},
   "outputs": [
    {
     "data": {
      "text/html": [
       "<table class=\"dataframe\">\n",
       "<caption>A data.table: 26 × 4</caption>\n",
       "<thead>\n",
       "\t<tr><th scope=col>Feature</th><th scope=col>Gain</th><th scope=col>Cover</th><th scope=col>Frequency</th></tr>\n",
       "\t<tr><th scope=col>&lt;chr&gt;</th><th scope=col>&lt;dbl&gt;</th><th scope=col>&lt;dbl&gt;</th><th scope=col>&lt;dbl&gt;</th></tr>\n",
       "</thead>\n",
       "<tbody>\n",
       "\t<tr><td>lead_time                           </td><td>0.4069066159</td><td>2.806174e-01</td><td>0.28074385</td></tr>\n",
       "\t<tr><td>avg_price_per_room                  </td><td>0.1752997146</td><td>3.150348e-01</td><td>0.29154169</td></tr>\n",
       "\t<tr><td>no_of_special_requests              </td><td>0.1427421459</td><td>9.530555e-02</td><td>0.07708458</td></tr>\n",
       "\t<tr><td>market_segment_typeOnline           </td><td>0.0859886356</td><td>1.824505e-02</td><td>0.02519496</td></tr>\n",
       "\t<tr><td>seasonwinter                        </td><td>0.0422833700</td><td>2.973122e-02</td><td>0.03134373</td></tr>\n",
       "\t<tr><td>market_segment_typeOffline          </td><td>0.0287692237</td><td>3.257377e-02</td><td>0.02984403</td></tr>\n",
       "\t<tr><td>no_of_week_nights                   </td><td>0.0266062242</td><td>5.817366e-02</td><td>0.06283743</td></tr>\n",
       "\t<tr><td>no_of_adults                        </td><td>0.0233651971</td><td>2.187367e-02</td><td>0.02939412</td></tr>\n",
       "\t<tr><td>no_of_weekend_nights                </td><td>0.0175613051</td><td>1.916880e-02</td><td>0.03554289</td></tr>\n",
       "\t<tr><td>required_car_parking_space1         </td><td>0.0104838108</td><td>2.325531e-02</td><td>0.01094781</td></tr>\n",
       "\t<tr><td>seasonspring                        </td><td>0.0070967066</td><td>9.155675e-03</td><td>0.01739652</td></tr>\n",
       "\t<tr><td>seasonsummer                        </td><td>0.0068154817</td><td>1.259603e-02</td><td>0.02039592</td></tr>\n",
       "\t<tr><td>type_of_meal_planNot Selected       </td><td>0.0042835613</td><td>1.117435e-02</td><td>0.01049790</td></tr>\n",
       "\t<tr><td>room_type_reservedRoom_Type 4       </td><td>0.0041606780</td><td>7.643874e-03</td><td>0.01334733</td></tr>\n",
       "\t<tr><td>no_of_children                      </td><td>0.0034049619</td><td>1.338746e-02</td><td>0.01049790</td></tr>\n",
       "\t<tr><td>type_of_meal_planMeal Plan 2        </td><td>0.0031482725</td><td>5.171226e-03</td><td>0.01034793</td></tr>\n",
       "\t<tr><td>market_segment_typeCorporate        </td><td>0.0026034201</td><td>8.142932e-03</td><td>0.00809838</td></tr>\n",
       "\t<tr><td>type_of_meal_planMeal Plan 1        </td><td>0.0021285809</td><td>4.539266e-03</td><td>0.00869826</td></tr>\n",
       "\t<tr><td>repeated_guest1                     </td><td>0.0021084709</td><td>1.170266e-02</td><td>0.00629874</td></tr>\n",
       "\t<tr><td>room_type_reservedRoom_Type 5       </td><td>0.0019405842</td><td>9.907897e-03</td><td>0.00569886</td></tr>\n",
       "\t<tr><td>room_type_reservedRoom_Type 2       </td><td>0.0011984060</td><td>5.780192e-03</td><td>0.00524895</td></tr>\n",
       "\t<tr><td>room_type_reservedRoom_Type 6       </td><td>0.0004297194</td><td>2.525850e-03</td><td>0.00239952</td></tr>\n",
       "\t<tr><td>no_of_previous_cancellations        </td><td>0.0002055021</td><td>1.258461e-03</td><td>0.00164967</td></tr>\n",
       "\t<tr><td>room_type_reservedRoom_Type 7       </td><td>0.0001941947</td><td>1.498909e-03</td><td>0.00119976</td></tr>\n",
       "\t<tr><td>no_of_previous_bookings_not_canceled</td><td>0.0001495161</td><td>1.518288e-03</td><td>0.00119976</td></tr>\n",
       "\t<tr><td>market_segment_typeComplementary    </td><td>0.0001257005</td><td>1.766573e-05</td><td>0.00254949</td></tr>\n",
       "</tbody>\n",
       "</table>\n"
      ],
      "text/latex": [
       "A data.table: 26 × 4\n",
       "\\begin{tabular}{llll}\n",
       " Feature & Gain & Cover & Frequency\\\\\n",
       " <chr> & <dbl> & <dbl> & <dbl>\\\\\n",
       "\\hline\n",
       "\t lead\\_time                            & 0.4069066159 & 2.806174e-01 & 0.28074385\\\\\n",
       "\t avg\\_price\\_per\\_room                   & 0.1752997146 & 3.150348e-01 & 0.29154169\\\\\n",
       "\t no\\_of\\_special\\_requests               & 0.1427421459 & 9.530555e-02 & 0.07708458\\\\\n",
       "\t market\\_segment\\_typeOnline            & 0.0859886356 & 1.824505e-02 & 0.02519496\\\\\n",
       "\t seasonwinter                         & 0.0422833700 & 2.973122e-02 & 0.03134373\\\\\n",
       "\t market\\_segment\\_typeOffline           & 0.0287692237 & 3.257377e-02 & 0.02984403\\\\\n",
       "\t no\\_of\\_week\\_nights                    & 0.0266062242 & 5.817366e-02 & 0.06283743\\\\\n",
       "\t no\\_of\\_adults                         & 0.0233651971 & 2.187367e-02 & 0.02939412\\\\\n",
       "\t no\\_of\\_weekend\\_nights                 & 0.0175613051 & 1.916880e-02 & 0.03554289\\\\\n",
       "\t required\\_car\\_parking\\_space1          & 0.0104838108 & 2.325531e-02 & 0.01094781\\\\\n",
       "\t seasonspring                         & 0.0070967066 & 9.155675e-03 & 0.01739652\\\\\n",
       "\t seasonsummer                         & 0.0068154817 & 1.259603e-02 & 0.02039592\\\\\n",
       "\t type\\_of\\_meal\\_planNot Selected        & 0.0042835613 & 1.117435e-02 & 0.01049790\\\\\n",
       "\t room\\_type\\_reservedRoom\\_Type 4        & 0.0041606780 & 7.643874e-03 & 0.01334733\\\\\n",
       "\t no\\_of\\_children                       & 0.0034049619 & 1.338746e-02 & 0.01049790\\\\\n",
       "\t type\\_of\\_meal\\_planMeal Plan 2         & 0.0031482725 & 5.171226e-03 & 0.01034793\\\\\n",
       "\t market\\_segment\\_typeCorporate         & 0.0026034201 & 8.142932e-03 & 0.00809838\\\\\n",
       "\t type\\_of\\_meal\\_planMeal Plan 1         & 0.0021285809 & 4.539266e-03 & 0.00869826\\\\\n",
       "\t repeated\\_guest1                      & 0.0021084709 & 1.170266e-02 & 0.00629874\\\\\n",
       "\t room\\_type\\_reservedRoom\\_Type 5        & 0.0019405842 & 9.907897e-03 & 0.00569886\\\\\n",
       "\t room\\_type\\_reservedRoom\\_Type 2        & 0.0011984060 & 5.780192e-03 & 0.00524895\\\\\n",
       "\t room\\_type\\_reservedRoom\\_Type 6        & 0.0004297194 & 2.525850e-03 & 0.00239952\\\\\n",
       "\t no\\_of\\_previous\\_cancellations         & 0.0002055021 & 1.258461e-03 & 0.00164967\\\\\n",
       "\t room\\_type\\_reservedRoom\\_Type 7        & 0.0001941947 & 1.498909e-03 & 0.00119976\\\\\n",
       "\t no\\_of\\_previous\\_bookings\\_not\\_canceled & 0.0001495161 & 1.518288e-03 & 0.00119976\\\\\n",
       "\t market\\_segment\\_typeComplementary     & 0.0001257005 & 1.766573e-05 & 0.00254949\\\\\n",
       "\\end{tabular}\n"
      ],
      "text/markdown": [
       "\n",
       "A data.table: 26 × 4\n",
       "\n",
       "| Feature &lt;chr&gt; | Gain &lt;dbl&gt; | Cover &lt;dbl&gt; | Frequency &lt;dbl&gt; |\n",
       "|---|---|---|---|\n",
       "| lead_time                            | 0.4069066159 | 2.806174e-01 | 0.28074385 |\n",
       "| avg_price_per_room                   | 0.1752997146 | 3.150348e-01 | 0.29154169 |\n",
       "| no_of_special_requests               | 0.1427421459 | 9.530555e-02 | 0.07708458 |\n",
       "| market_segment_typeOnline            | 0.0859886356 | 1.824505e-02 | 0.02519496 |\n",
       "| seasonwinter                         | 0.0422833700 | 2.973122e-02 | 0.03134373 |\n",
       "| market_segment_typeOffline           | 0.0287692237 | 3.257377e-02 | 0.02984403 |\n",
       "| no_of_week_nights                    | 0.0266062242 | 5.817366e-02 | 0.06283743 |\n",
       "| no_of_adults                         | 0.0233651971 | 2.187367e-02 | 0.02939412 |\n",
       "| no_of_weekend_nights                 | 0.0175613051 | 1.916880e-02 | 0.03554289 |\n",
       "| required_car_parking_space1          | 0.0104838108 | 2.325531e-02 | 0.01094781 |\n",
       "| seasonspring                         | 0.0070967066 | 9.155675e-03 | 0.01739652 |\n",
       "| seasonsummer                         | 0.0068154817 | 1.259603e-02 | 0.02039592 |\n",
       "| type_of_meal_planNot Selected        | 0.0042835613 | 1.117435e-02 | 0.01049790 |\n",
       "| room_type_reservedRoom_Type 4        | 0.0041606780 | 7.643874e-03 | 0.01334733 |\n",
       "| no_of_children                       | 0.0034049619 | 1.338746e-02 | 0.01049790 |\n",
       "| type_of_meal_planMeal Plan 2         | 0.0031482725 | 5.171226e-03 | 0.01034793 |\n",
       "| market_segment_typeCorporate         | 0.0026034201 | 8.142932e-03 | 0.00809838 |\n",
       "| type_of_meal_planMeal Plan 1         | 0.0021285809 | 4.539266e-03 | 0.00869826 |\n",
       "| repeated_guest1                      | 0.0021084709 | 1.170266e-02 | 0.00629874 |\n",
       "| room_type_reservedRoom_Type 5        | 0.0019405842 | 9.907897e-03 | 0.00569886 |\n",
       "| room_type_reservedRoom_Type 2        | 0.0011984060 | 5.780192e-03 | 0.00524895 |\n",
       "| room_type_reservedRoom_Type 6        | 0.0004297194 | 2.525850e-03 | 0.00239952 |\n",
       "| no_of_previous_cancellations         | 0.0002055021 | 1.258461e-03 | 0.00164967 |\n",
       "| room_type_reservedRoom_Type 7        | 0.0001941947 | 1.498909e-03 | 0.00119976 |\n",
       "| no_of_previous_bookings_not_canceled | 0.0001495161 | 1.518288e-03 | 0.00119976 |\n",
       "| market_segment_typeComplementary     | 0.0001257005 | 1.766573e-05 | 0.00254949 |\n",
       "\n"
      ],
      "text/plain": [
       "   Feature                              Gain         Cover        Frequency \n",
       "1  lead_time                            0.4069066159 2.806174e-01 0.28074385\n",
       "2  avg_price_per_room                   0.1752997146 3.150348e-01 0.29154169\n",
       "3  no_of_special_requests               0.1427421459 9.530555e-02 0.07708458\n",
       "4  market_segment_typeOnline            0.0859886356 1.824505e-02 0.02519496\n",
       "5  seasonwinter                         0.0422833700 2.973122e-02 0.03134373\n",
       "6  market_segment_typeOffline           0.0287692237 3.257377e-02 0.02984403\n",
       "7  no_of_week_nights                    0.0266062242 5.817366e-02 0.06283743\n",
       "8  no_of_adults                         0.0233651971 2.187367e-02 0.02939412\n",
       "9  no_of_weekend_nights                 0.0175613051 1.916880e-02 0.03554289\n",
       "10 required_car_parking_space1          0.0104838108 2.325531e-02 0.01094781\n",
       "11 seasonspring                         0.0070967066 9.155675e-03 0.01739652\n",
       "12 seasonsummer                         0.0068154817 1.259603e-02 0.02039592\n",
       "13 type_of_meal_planNot Selected        0.0042835613 1.117435e-02 0.01049790\n",
       "14 room_type_reservedRoom_Type 4        0.0041606780 7.643874e-03 0.01334733\n",
       "15 no_of_children                       0.0034049619 1.338746e-02 0.01049790\n",
       "16 type_of_meal_planMeal Plan 2         0.0031482725 5.171226e-03 0.01034793\n",
       "17 market_segment_typeCorporate         0.0026034201 8.142932e-03 0.00809838\n",
       "18 type_of_meal_planMeal Plan 1         0.0021285809 4.539266e-03 0.00869826\n",
       "19 repeated_guest1                      0.0021084709 1.170266e-02 0.00629874\n",
       "20 room_type_reservedRoom_Type 5        0.0019405842 9.907897e-03 0.00569886\n",
       "21 room_type_reservedRoom_Type 2        0.0011984060 5.780192e-03 0.00524895\n",
       "22 room_type_reservedRoom_Type 6        0.0004297194 2.525850e-03 0.00239952\n",
       "23 no_of_previous_cancellations         0.0002055021 1.258461e-03 0.00164967\n",
       "24 room_type_reservedRoom_Type 7        0.0001941947 1.498909e-03 0.00119976\n",
       "25 no_of_previous_bookings_not_canceled 0.0001495161 1.518288e-03 0.00119976\n",
       "26 market_segment_typeComplementary     0.0001257005 1.766573e-05 0.00254949"
      ]
     },
     "metadata": {},
     "output_type": "display_data"
    }
   ],
   "source": [
    "xgb.importance(model = boostOut$finalModel)"
   ]
  },
  {
   "cell_type": "code",
   "execution_count": 279,
   "id": "e118644f-e041-48ce-b7ac-9fa5d6c62f73",
   "metadata": {},
   "outputs": [],
   "source": [
    "saveRDS(boostOut, \"models/xgboost.rds\")"
   ]
  },
  {
   "cell_type": "markdown",
   "id": "fcd81bfa-6351-4f94-8282-7047cb971787",
   "metadata": {},
   "source": [
    "# Compare Models\n",
    "Use this to compare the performance between the models: [link](https://cran.r-project.org/web/packages/caret/vignettes/caret.html)"
   ]
  },
  {
   "cell_type": "code",
   "execution_count": 682,
   "id": "b96c3cc7-5bd9-46da-b920-1a2a8432d2ae",
   "metadata": {},
   "outputs": [],
   "source": [
    "elasticOut <- readRDS(\"models/elasticnet_cv.rds\")\n",
    "glmnetOut <- readRDS(\"models/final_glmnet.rds\")\n",
    "boostOut <- readRDS(\"models/xgboost.rds\")"
   ]
  },
  {
   "cell_type": "markdown",
   "id": "3b8bfdea-8d58-4750-9c89-b7411b4c93e0",
   "metadata": {},
   "source": [
    "## ROC"
   ]
  },
  {
   "cell_type": "markdown",
   "id": "bbcd36ba-f89d-4844-b9f6-af54a73b969d",
   "metadata": {},
   "source": [
    "### Logistic Regression"
   ]
  },
  {
   "cell_type": "code",
   "execution_count": 357,
   "id": "0106a356-6b1e-4e88-8dfd-d1704f4e63c5",
   "metadata": {},
   "outputs": [
    {
     "name": "stderr",
     "output_type": "stream",
     "text": [
      "Setting levels: control = Not_Canceled, case = Canceled\n",
      "\n",
      "Setting direction: controls < cases\n",
      "\n"
     ]
    },
    {
     "data": {
      "image/png": "[encoded data removed]",
      "text/plain": [
       "plot without title"
      ]
     },
     "metadata": {
      "image/png": {
       "height": 420,
       "width": 420
      }
     },
     "output_type": "display_data"
    }
   ],
   "source": [
    "elasticROC <- roc(response=Ytrain, predict(elasticOut, Xtrain_mat, s=elasticOut$bestTune$lambda, type=\"prob\")$Canceled)\n",
    "plot(elasticROC)"
   ]
  },
  {
   "cell_type": "code",
   "execution_count": 358,
   "id": "25a66d06-4060-44dd-8921-aef7de85c631",
   "metadata": {},
   "outputs": [
    {
     "data": {
      "text/html": [
       "0.872405464719778"
      ],
      "text/latex": [
       "0.872405464719778"
      ],
      "text/markdown": [
       "0.872405464719778"
      ],
      "text/plain": [
       "Area under the curve: 0.8724"
      ]
     },
     "metadata": {},
     "output_type": "display_data"
    }
   ],
   "source": [
    "auc(elasticROC)"
   ]
  },
  {
   "cell_type": "markdown",
   "id": "82c015ac-ae00-458f-9850-39396b6bb556",
   "metadata": {},
   "source": [
    "### XGBoost"
   ]
  },
  {
   "cell_type": "code",
   "execution_count": 350,
   "id": "23897459-106f-4973-be23-9e85ccbc60c6",
   "metadata": {},
   "outputs": [
    {
     "name": "stderr",
     "output_type": "stream",
     "text": [
      "Setting levels: control = Not_Canceled, case = Canceled\n",
      "\n",
      "Setting direction: controls < cases\n",
      "\n"
     ]
    },
    {
     "data": {
      "image/png": "[encoded data removed]",
      "text/plain": [
       "plot without title"
      ]
     },
     "metadata": {
      "image/png": {
       "height": 420,
       "width": 420
      }
     },
     "output_type": "display_data"
    }
   ],
   "source": [
    "boostROC <- roc(response=Ytrain, predict(boostOut,Xtrain_mat,type=\"prob\")$Canceled)\n",
    "plot(boostROC)"
   ]
  },
  {
   "cell_type": "code",
   "execution_count": 351,
   "id": "24f47f12-d4a4-4abe-bc5d-3003944c7b5a",
   "metadata": {},
   "outputs": [
    {
     "data": {
      "text/html": [
       "0.948392542585617"
      ],
      "text/latex": [
       "0.948392542585617"
      ],
      "text/markdown": [
       "0.948392542585617"
      ],
      "text/plain": [
       "Area under the curve: 0.9484"
      ]
     },
     "metadata": {},
     "output_type": "display_data"
    }
   ],
   "source": [
    "auc(boostROC)"
   ]
  },
  {
   "cell_type": "markdown",
   "id": "020f035c-4ca2-41a0-9fac-232937df569e",
   "metadata": {},
   "source": [
    "## t-test of Models"
   ]
  },
  {
   "cell_type": "code",
   "execution_count": 281,
   "id": "4f3468bb-04a7-4980-9b6a-fbb42a2f4449",
   "metadata": {},
   "outputs": [
    {
     "data": {
      "text/plain": [
       "\n",
       "Call:\n",
       "summary.resamples(object = resamps)\n",
       "\n",
       "Models: elastic, boost \n",
       "Number of resamples: 10 \n",
       "\n",
       "Accuracy \n",
       "             Min.   1st Qu.    Median      Mean   3rd Qu.      Max. NA's\n",
       "elastic 0.7938646 0.8007856 0.8038153 0.8043009 0.8058544 0.8189978    0\n",
       "boost   0.8645716 0.8699027 0.8711186 0.8736106 0.8735041 0.8904263    0\n",
       "\n",
       "Kappa \n",
       "             Min.   1st Qu.    Median      Mean   3rd Qu.      Max. NA's\n",
       "elastic 0.5204163 0.5395117 0.5446605 0.5453255 0.5483626 0.5801468    0\n",
       "boost   0.6868320 0.6995925 0.7027873 0.7087323 0.7103085 0.7476622    0\n"
      ]
     },
     "metadata": {},
     "output_type": "display_data"
    }
   ],
   "source": [
    "resamps <- resamples(list(elastic = elasticOut, boost = boostOut))\n",
    "summary(resamps)"
   ]
  },
  {
   "cell_type": "code",
   "execution_count": 282,
   "id": "315f1a88-f3a5-4020-9d6d-98e5cd26a5ed",
   "metadata": {},
   "outputs": [
    {
     "data": {
      "text/plain": [
       "\n",
       "Call:\n",
       "summary.diff.resamples(object = diffs)\n",
       "\n",
       "p-value adjustment: bonferroni \n",
       "Upper diagonal: estimates of the difference\n",
       "Lower diagonal: p-value for H0: difference = 0\n",
       "\n",
       "Accuracy \n",
       "        elastic   boost   \n",
       "elastic           -0.06931\n",
       "boost   1.333e-12         \n",
       "\n",
       "Kappa \n",
       "        elastic   boost  \n",
       "elastic           -0.1634\n",
       "boost   3.388e-12        \n"
      ]
     },
     "metadata": {},
     "output_type": "display_data"
    }
   ],
   "source": [
    "diffs <- diff(resamps)\n",
    "summary(diffs)"
   ]
  },
  {
   "cell_type": "markdown",
   "id": "f1d72c0e-535c-454c-ae11-06313c7c033b",
   "metadata": {},
   "source": [
    "# Plot Features"
   ]
  },
  {
   "cell_type": "markdown",
   "id": "e80b0418-77d8-41d3-9879-028878efbeb9",
   "metadata": {},
   "source": [
    "### Lead Time by Model"
   ]
  },
  {
   "cell_type": "code",
   "execution_count": 602,
   "id": "70a30fe4-8bf9-4c4c-a48f-2cdab962ae1f",
   "metadata": {
    "tags": []
   },
   "outputs": [
    {
     "data": {
      "text/html": [
       "<table class=\"dataframe\">\n",
       "<caption>A matrix: 6 × 28 of type dbl</caption>\n",
       "<thead>\n",
       "\t<tr><th></th><th scope=col>type_of_meal_planMeal Plan 1</th><th scope=col>type_of_meal_planMeal Plan 2</th><th scope=col>type_of_meal_planMeal Plan 3</th><th scope=col>type_of_meal_planNot Selected</th><th scope=col>room_type_reservedRoom_Type 2</th><th scope=col>room_type_reservedRoom_Type 3</th><th scope=col>room_type_reservedRoom_Type 4</th><th scope=col>room_type_reservedRoom_Type 5</th><th scope=col>room_type_reservedRoom_Type 6</th><th scope=col>room_type_reservedRoom_Type 7</th><th scope=col>⋯</th><th scope=col>seasonwinter</th><th scope=col>no_of_adults</th><th scope=col>no_of_children</th><th scope=col>no_of_weekend_nights</th><th scope=col>no_of_week_nights</th><th scope=col>no_of_previous_cancellations</th><th scope=col>no_of_previous_bookings_not_canceled</th><th scope=col>no_of_special_requests</th><th scope=col>lead_time</th><th scope=col>avg_price_per_room</th></tr>\n",
       "</thead>\n",
       "<tbody>\n",
       "\t<tr><th scope=row>1</th><td>1</td><td>0</td><td>0</td><td>0</td><td>0</td><td>0</td><td>0</td><td>0</td><td>0</td><td>0</td><td>⋯</td><td>0</td><td>0.2926958</td><td>-0.2591334</td><td>0.2208799</td><td>-0.1517161</td><td>-0.06378754</td><td>-0.08322939</td><td>-0.7919396</td><td>-1.0169333</td><td>-0.1265973</td></tr>\n",
       "\t<tr><th scope=row>2</th><td>1</td><td>0</td><td>0</td><td>0</td><td>0</td><td>0</td><td>0</td><td>0</td><td>0</td><td>0</td><td>⋯</td><td>0</td><td>0.2926958</td><td>-0.2591334</td><td>0.2208799</td><td>-0.1517161</td><td>-0.06378754</td><td>-0.08322939</td><td>-0.7919396</td><td>-1.0053412</td><td>-0.1265973</td></tr>\n",
       "\t<tr><th scope=row>3</th><td>1</td><td>0</td><td>0</td><td>0</td><td>0</td><td>0</td><td>0</td><td>0</td><td>0</td><td>0</td><td>⋯</td><td>0</td><td>0.2926958</td><td>-0.2591334</td><td>0.2208799</td><td>-0.1517161</td><td>-0.06378754</td><td>-0.08322939</td><td>-0.7919396</td><td>-0.9937491</td><td>-0.1265973</td></tr>\n",
       "\t<tr><th scope=row>4</th><td>1</td><td>0</td><td>0</td><td>0</td><td>0</td><td>0</td><td>0</td><td>0</td><td>0</td><td>0</td><td>⋯</td><td>0</td><td>0.2926958</td><td>-0.2591334</td><td>0.2208799</td><td>-0.1517161</td><td>-0.06378754</td><td>-0.08322939</td><td>-0.7919396</td><td>-0.9821571</td><td>-0.1265973</td></tr>\n",
       "\t<tr><th scope=row>5</th><td>1</td><td>0</td><td>0</td><td>0</td><td>0</td><td>0</td><td>0</td><td>0</td><td>0</td><td>0</td><td>⋯</td><td>0</td><td>0.2926958</td><td>-0.2591334</td><td>0.2208799</td><td>-0.1517161</td><td>-0.06378754</td><td>-0.08322939</td><td>-0.7919396</td><td>-0.9705650</td><td>-0.1265973</td></tr>\n",
       "\t<tr><th scope=row>6</th><td>1</td><td>0</td><td>0</td><td>0</td><td>0</td><td>0</td><td>0</td><td>0</td><td>0</td><td>0</td><td>⋯</td><td>0</td><td>0.2926958</td><td>-0.2591334</td><td>0.2208799</td><td>-0.1517161</td><td>-0.06378754</td><td>-0.08322939</td><td>-0.7919396</td><td>-0.9589729</td><td>-0.1265973</td></tr>\n",
       "</tbody>\n",
       "</table>\n"
      ],
      "text/latex": [
       "A matrix: 6 × 28 of type dbl\n",
       "\\begin{tabular}{r|lllllllllllllllllllll}\n",
       "  & type\\_of\\_meal\\_planMeal Plan 1 & type\\_of\\_meal\\_planMeal Plan 2 & type\\_of\\_meal\\_planMeal Plan 3 & type\\_of\\_meal\\_planNot Selected & room\\_type\\_reservedRoom\\_Type 2 & room\\_type\\_reservedRoom\\_Type 3 & room\\_type\\_reservedRoom\\_Type 4 & room\\_type\\_reservedRoom\\_Type 5 & room\\_type\\_reservedRoom\\_Type 6 & room\\_type\\_reservedRoom\\_Type 7 & ⋯ & seasonwinter & no\\_of\\_adults & no\\_of\\_children & no\\_of\\_weekend\\_nights & no\\_of\\_week\\_nights & no\\_of\\_previous\\_cancellations & no\\_of\\_previous\\_bookings\\_not\\_canceled & no\\_of\\_special\\_requests & lead\\_time & avg\\_price\\_per\\_room\\\\\n",
       "\\hline\n",
       "\t1 & 1 & 0 & 0 & 0 & 0 & 0 & 0 & 0 & 0 & 0 & ⋯ & 0 & 0.2926958 & -0.2591334 & 0.2208799 & -0.1517161 & -0.06378754 & -0.08322939 & -0.7919396 & -1.0169333 & -0.1265973\\\\\n",
       "\t2 & 1 & 0 & 0 & 0 & 0 & 0 & 0 & 0 & 0 & 0 & ⋯ & 0 & 0.2926958 & -0.2591334 & 0.2208799 & -0.1517161 & -0.06378754 & -0.08322939 & -0.7919396 & -1.0053412 & -0.1265973\\\\\n",
       "\t3 & 1 & 0 & 0 & 0 & 0 & 0 & 0 & 0 & 0 & 0 & ⋯ & 0 & 0.2926958 & -0.2591334 & 0.2208799 & -0.1517161 & -0.06378754 & -0.08322939 & -0.7919396 & -0.9937491 & -0.1265973\\\\\n",
       "\t4 & 1 & 0 & 0 & 0 & 0 & 0 & 0 & 0 & 0 & 0 & ⋯ & 0 & 0.2926958 & -0.2591334 & 0.2208799 & -0.1517161 & -0.06378754 & -0.08322939 & -0.7919396 & -0.9821571 & -0.1265973\\\\\n",
       "\t5 & 1 & 0 & 0 & 0 & 0 & 0 & 0 & 0 & 0 & 0 & ⋯ & 0 & 0.2926958 & -0.2591334 & 0.2208799 & -0.1517161 & -0.06378754 & -0.08322939 & -0.7919396 & -0.9705650 & -0.1265973\\\\\n",
       "\t6 & 1 & 0 & 0 & 0 & 0 & 0 & 0 & 0 & 0 & 0 & ⋯ & 0 & 0.2926958 & -0.2591334 & 0.2208799 & -0.1517161 & -0.06378754 & -0.08322939 & -0.7919396 & -0.9589729 & -0.1265973\\\\\n",
       "\\end{tabular}\n"
      ],
      "text/markdown": [
       "\n",
       "A matrix: 6 × 28 of type dbl\n",
       "\n",
       "| <!--/--> | type_of_meal_planMeal Plan 1 | type_of_meal_planMeal Plan 2 | type_of_meal_planMeal Plan 3 | type_of_meal_planNot Selected | room_type_reservedRoom_Type 2 | room_type_reservedRoom_Type 3 | room_type_reservedRoom_Type 4 | room_type_reservedRoom_Type 5 | room_type_reservedRoom_Type 6 | room_type_reservedRoom_Type 7 | ⋯ | seasonwinter | no_of_adults | no_of_children | no_of_weekend_nights | no_of_week_nights | no_of_previous_cancellations | no_of_previous_bookings_not_canceled | no_of_special_requests | lead_time | avg_price_per_room |\n",
       "|---|---|---|---|---|---|---|---|---|---|---|---|---|---|---|---|---|---|---|---|---|---|\n",
       "| 1 | 1 | 0 | 0 | 0 | 0 | 0 | 0 | 0 | 0 | 0 | ⋯ | 0 | 0.2926958 | -0.2591334 | 0.2208799 | -0.1517161 | -0.06378754 | -0.08322939 | -0.7919396 | -1.0169333 | -0.1265973 |\n",
       "| 2 | 1 | 0 | 0 | 0 | 0 | 0 | 0 | 0 | 0 | 0 | ⋯ | 0 | 0.2926958 | -0.2591334 | 0.2208799 | -0.1517161 | -0.06378754 | -0.08322939 | -0.7919396 | -1.0053412 | -0.1265973 |\n",
       "| 3 | 1 | 0 | 0 | 0 | 0 | 0 | 0 | 0 | 0 | 0 | ⋯ | 0 | 0.2926958 | -0.2591334 | 0.2208799 | -0.1517161 | -0.06378754 | -0.08322939 | -0.7919396 | -0.9937491 | -0.1265973 |\n",
       "| 4 | 1 | 0 | 0 | 0 | 0 | 0 | 0 | 0 | 0 | 0 | ⋯ | 0 | 0.2926958 | -0.2591334 | 0.2208799 | -0.1517161 | -0.06378754 | -0.08322939 | -0.7919396 | -0.9821571 | -0.1265973 |\n",
       "| 5 | 1 | 0 | 0 | 0 | 0 | 0 | 0 | 0 | 0 | 0 | ⋯ | 0 | 0.2926958 | -0.2591334 | 0.2208799 | -0.1517161 | -0.06378754 | -0.08322939 | -0.7919396 | -0.9705650 | -0.1265973 |\n",
       "| 6 | 1 | 0 | 0 | 0 | 0 | 0 | 0 | 0 | 0 | 0 | ⋯ | 0 | 0.2926958 | -0.2591334 | 0.2208799 | -0.1517161 | -0.06378754 | -0.08322939 | -0.7919396 | -0.9589729 | -0.1265973 |\n",
       "\n"
      ],
      "text/plain": [
       "  type_of_meal_planMeal Plan 1 type_of_meal_planMeal Plan 2\n",
       "1 1                            0                           \n",
       "2 1                            0                           \n",
       "3 1                            0                           \n",
       "4 1                            0                           \n",
       "5 1                            0                           \n",
       "6 1                            0                           \n",
       "  type_of_meal_planMeal Plan 3 type_of_meal_planNot Selected\n",
       "1 0                            0                            \n",
       "2 0                            0                            \n",
       "3 0                            0                            \n",
       "4 0                            0                            \n",
       "5 0                            0                            \n",
       "6 0                            0                            \n",
       "  room_type_reservedRoom_Type 2 room_type_reservedRoom_Type 3\n",
       "1 0                             0                            \n",
       "2 0                             0                            \n",
       "3 0                             0                            \n",
       "4 0                             0                            \n",
       "5 0                             0                            \n",
       "6 0                             0                            \n",
       "  room_type_reservedRoom_Type 4 room_type_reservedRoom_Type 5\n",
       "1 0                             0                            \n",
       "2 0                             0                            \n",
       "3 0                             0                            \n",
       "4 0                             0                            \n",
       "5 0                             0                            \n",
       "6 0                             0                            \n",
       "  room_type_reservedRoom_Type 6 room_type_reservedRoom_Type 7 ⋯ seasonwinter\n",
       "1 0                             0                             ⋯ 0           \n",
       "2 0                             0                             ⋯ 0           \n",
       "3 0                             0                             ⋯ 0           \n",
       "4 0                             0                             ⋯ 0           \n",
       "5 0                             0                             ⋯ 0           \n",
       "6 0                             0                             ⋯ 0           \n",
       "  no_of_adults no_of_children no_of_weekend_nights no_of_week_nights\n",
       "1 0.2926958    -0.2591334     0.2208799            -0.1517161       \n",
       "2 0.2926958    -0.2591334     0.2208799            -0.1517161       \n",
       "3 0.2926958    -0.2591334     0.2208799            -0.1517161       \n",
       "4 0.2926958    -0.2591334     0.2208799            -0.1517161       \n",
       "5 0.2926958    -0.2591334     0.2208799            -0.1517161       \n",
       "6 0.2926958    -0.2591334     0.2208799            -0.1517161       \n",
       "  no_of_previous_cancellations no_of_previous_bookings_not_canceled\n",
       "1 -0.06378754                  -0.08322939                         \n",
       "2 -0.06378754                  -0.08322939                         \n",
       "3 -0.06378754                  -0.08322939                         \n",
       "4 -0.06378754                  -0.08322939                         \n",
       "5 -0.06378754                  -0.08322939                         \n",
       "6 -0.06378754                  -0.08322939                         \n",
       "  no_of_special_requests lead_time  avg_price_per_room\n",
       "1 -0.7919396             -1.0169333 -0.1265973        \n",
       "2 -0.7919396             -1.0053412 -0.1265973        \n",
       "3 -0.7919396             -0.9937491 -0.1265973        \n",
       "4 -0.7919396             -0.9821571 -0.1265973        \n",
       "5 -0.7919396             -0.9705650 -0.1265973        \n",
       "6 -0.7919396             -0.9589729 -0.1265973        "
      ]
     },
     "metadata": {},
     "output_type": "display_data"
    }
   ],
   "source": [
    "# Create vector of lead times, standardize, then create tibble\n",
    "lead_time<-seq(min(Xtrain$lead_time), max(Xtrain$lead_time))\n",
    "standardized_lead_time <- (lead_time - pre_process_function$mean[[\"lead_time\"]])/pre_process_function$std[[\"lead_time\"]]\n",
    "lead_time_grid <- tibble(lead_time=standardized_lead_time)\n",
    "lead_time_len <- length(lead_time)\n",
    "\n",
    "# Select dummy variable columns\n",
    "mat_factor_cols <- colnames(Xtrain_mat)[!(colnames(Xtrain_mat) %in% quant_cols)]\n",
    "\n",
    "# Get most common value for dummy variables\n",
    "for (x in mat_factor_cols){\n",
    "    value_counts <- Xtrain_mat[,x] %>%\n",
    "        table()\n",
    "    lead_time_grid <- lead_time_grid %>%\n",
    "        mutate(!!x := rep(as.numeric(names(which.max(value_counts))), len))\n",
    "}\n",
    "\n",
    "# Get median quantitative values\n",
    "for (x in quant_cols[quant_cols!=\"lead_time\"]){\n",
    "    col_median <- Xtrain_mat[,x] %>%\n",
    "        median()\n",
    "\n",
    "    lead_time_grid <- lead_time_grid %>%\n",
    "        mutate(!!x := rep(col_median, len))\n",
    "}\n",
    "\n",
    "# Create matrix and format names correctly\n",
    "lead_time_grid <- model.matrix(~.-1,lead_time_grid)\n",
    "colnames(lead_time_grid) <- sapply(colnames(lead_time_grid),str_replace_all,pattern=\"`\",replacement=\"\", USE.NAMES=FALSE)\n",
    "lead_time_grid <- lead_time_grid[,colnames(Xtrain_mat)]\n",
    "\n",
    "head(lead_time_grid)"
   ]
  },
  {
   "cell_type": "code",
   "execution_count": 659,
   "id": "c232c440-c6a9-444f-aa0b-b7b434f77b5a",
   "metadata": {},
   "outputs": [
    {
     "data": {
      "text/html": [
       "<table class=\"dataframe\">\n",
       "<caption>A tibble: 6 × 3</caption>\n",
       "<thead>\n",
       "\t<tr><th scope=col>lead_time</th><th scope=col>model</th><th scope=col>probability</th></tr>\n",
       "\t<tr><th scope=col>&lt;dbl&gt;</th><th scope=col>&lt;chr&gt;</th><th scope=col>&lt;dbl&gt;</th></tr>\n",
       "</thead>\n",
       "<tbody>\n",
       "\t<tr><td>0</td><td>XGBoost</td><td>0.08332986</td></tr>\n",
       "\t<tr><td>0</td><td>GLMNet </td><td>0.29360043</td></tr>\n",
       "\t<tr><td>1</td><td>XGBoost</td><td>0.08596462</td></tr>\n",
       "\t<tr><td>1</td><td>GLMNet </td><td>0.29695507</td></tr>\n",
       "\t<tr><td>2</td><td>XGBoost</td><td>0.16863900</td></tr>\n",
       "\t<tr><td>2</td><td>GLMNet </td><td>0.30033175</td></tr>\n",
       "</tbody>\n",
       "</table>\n"
      ],
      "text/latex": [
       "A tibble: 6 × 3\n",
       "\\begin{tabular}{lll}\n",
       " lead\\_time & model & probability\\\\\n",
       " <dbl> & <chr> & <dbl>\\\\\n",
       "\\hline\n",
       "\t 0 & XGBoost & 0.08332986\\\\\n",
       "\t 0 & GLMNet  & 0.29360043\\\\\n",
       "\t 1 & XGBoost & 0.08596462\\\\\n",
       "\t 1 & GLMNet  & 0.29695507\\\\\n",
       "\t 2 & XGBoost & 0.16863900\\\\\n",
       "\t 2 & GLMNet  & 0.30033175\\\\\n",
       "\\end{tabular}\n"
      ],
      "text/markdown": [
       "\n",
       "A tibble: 6 × 3\n",
       "\n",
       "| lead_time &lt;dbl&gt; | model &lt;chr&gt; | probability &lt;dbl&gt; |\n",
       "|---|---|---|\n",
       "| 0 | XGBoost | 0.08332986 |\n",
       "| 0 | GLMNet  | 0.29360043 |\n",
       "| 1 | XGBoost | 0.08596462 |\n",
       "| 1 | GLMNet  | 0.29695507 |\n",
       "| 2 | XGBoost | 0.16863900 |\n",
       "| 2 | GLMNet  | 0.30033175 |\n",
       "\n"
      ],
      "text/plain": [
       "  lead_time model   probability\n",
       "1 0         XGBoost 0.08332986 \n",
       "2 0         GLMNet  0.29360043 \n",
       "3 1         XGBoost 0.08596462 \n",
       "4 1         GLMNet  0.29695507 \n",
       "5 2         XGBoost 0.16863900 \n",
       "6 2         GLMNet  0.30033175 "
      ]
     },
     "metadata": {},
     "output_type": "display_data"
    }
   ],
   "source": [
    "# Make predictions and pivot\n",
    "lead_time_preds = lead_time_grid %>%\n",
    "    as_tibble() %>%\n",
    "    select(lead_time) %>%\n",
    "    mutate(\n",
    "        # XGBoost pred and format\n",
    "        XGBoost = predict(boostOut, lead_time_grid,type=\"prob\")%>%pull(\"Canceled\"),\n",
    "        # GLMNet pred and format\n",
    "        GLMNet = as.vector(\n",
    "            predict(glmnetOut, lead_time_grid,s=elasticOut$bestTune$lambda, type=\"response\")[,\"s1\"]\n",
    "        ),\n",
    "        # Un-standardize lead time\n",
    "        lead_time = lead_time*pre_process_function$std[[\"lead_time\"]]+pre_process_function$mean[[\"lead_time\"]]\n",
    "    ) %>%\n",
    "    pivot_longer(!lead_time, names_to=\"model\", values_to=\"probability\")\n",
    "head(lead_time_preds)"
   ]
  },
  {
   "cell_type": "code",
   "execution_count": 660,
   "id": "c54dd42d-00a4-41ef-9db0-7330d01f6bee",
   "metadata": {},
   "outputs": [
    {
     "data": {
      "image/png": "[encoded data removed]",
      "text/plain": [
       "plot without title"
      ]
     },
     "metadata": {
      "image/png": {
       "height": 420,
       "width": 420
      }
     },
     "output_type": "display_data"
    }
   ],
   "source": [
    "lead_time_preds %>%\n",
    "    ggplot(aes(x=lead_time, y=probability, color=model)) +\n",
    "        geom_line() +\n",
    "        labs(title=\"Probability of Autumn Cancellation Given Reservation Lead Time\",\n",
    "            x=\"Reservation Lead Time (Days)\", y=\"Probability\",color=\"Model\")"
   ]
  },
  {
   "cell_type": "markdown",
   "id": "65a5f1ca-2b23-4e76-b8e3-885785080d21",
   "metadata": {},
   "source": [
    "### Lead Time by Model and Season"
   ]
  },
  {
   "cell_type": "code",
   "execution_count": 661,
   "id": "4633269e-c3f3-491e-8623-587726aa1c71",
   "metadata": {},
   "outputs": [
    {
     "data": {
      "text/html": [
       "<table class=\"dataframe\">\n",
       "<caption>A tibble: 6 × 4</caption>\n",
       "<thead>\n",
       "\t<tr><th scope=col>lead_time</th><th scope=col>season</th><th scope=col>model</th><th scope=col>probability</th></tr>\n",
       "\t<tr><th scope=col>&lt;dbl&gt;</th><th scope=col>&lt;chr&gt;</th><th scope=col>&lt;chr&gt;</th><th scope=col>&lt;dbl&gt;</th></tr>\n",
       "</thead>\n",
       "<tbody>\n",
       "\t<tr><td>0</td><td>Autumn</td><td>XGBoost</td><td>0.08332986</td></tr>\n",
       "\t<tr><td>0</td><td>Autumn</td><td>GLMNet </td><td>0.29360043</td></tr>\n",
       "\t<tr><td>1</td><td>Autumn</td><td>XGBoost</td><td>0.08596462</td></tr>\n",
       "\t<tr><td>1</td><td>Autumn</td><td>GLMNet </td><td>0.29695507</td></tr>\n",
       "\t<tr><td>2</td><td>Autumn</td><td>XGBoost</td><td>0.16863900</td></tr>\n",
       "\t<tr><td>2</td><td>Autumn</td><td>GLMNet </td><td>0.30033175</td></tr>\n",
       "</tbody>\n",
       "</table>\n"
      ],
      "text/latex": [
       "A tibble: 6 × 4\n",
       "\\begin{tabular}{llll}\n",
       " lead\\_time & season & model & probability\\\\\n",
       " <dbl> & <chr> & <chr> & <dbl>\\\\\n",
       "\\hline\n",
       "\t 0 & Autumn & XGBoost & 0.08332986\\\\\n",
       "\t 0 & Autumn & GLMNet  & 0.29360043\\\\\n",
       "\t 1 & Autumn & XGBoost & 0.08596462\\\\\n",
       "\t 1 & Autumn & GLMNet  & 0.29695507\\\\\n",
       "\t 2 & Autumn & XGBoost & 0.16863900\\\\\n",
       "\t 2 & Autumn & GLMNet  & 0.30033175\\\\\n",
       "\\end{tabular}\n"
      ],
      "text/markdown": [
       "\n",
       "A tibble: 6 × 4\n",
       "\n",
       "| lead_time &lt;dbl&gt; | season &lt;chr&gt; | model &lt;chr&gt; | probability &lt;dbl&gt; |\n",
       "|---|---|---|---|\n",
       "| 0 | Autumn | XGBoost | 0.08332986 |\n",
       "| 0 | Autumn | GLMNet  | 0.29360043 |\n",
       "| 1 | Autumn | XGBoost | 0.08596462 |\n",
       "| 1 | Autumn | GLMNet  | 0.29695507 |\n",
       "| 2 | Autumn | XGBoost | 0.16863900 |\n",
       "| 2 | Autumn | GLMNet  | 0.30033175 |\n",
       "\n"
      ],
      "text/plain": [
       "  lead_time season model   probability\n",
       "1 0         Autumn XGBoost 0.08332986 \n",
       "2 0         Autumn GLMNet  0.29360043 \n",
       "3 1         Autumn XGBoost 0.08596462 \n",
       "4 1         Autumn GLMNet  0.29695507 \n",
       "5 2         Autumn XGBoost 0.16863900 \n",
       "6 2         Autumn GLMNet  0.30033175 "
      ]
     },
     "metadata": {},
     "output_type": "display_data"
    }
   ],
   "source": [
    "# Create encoding for each season\n",
    "seasons <- c(\"seasonwinter\",\"seasonspring\", \"seasonsummer\")\n",
    "lead_time_season_grid <- lead_time_grid\n",
    "\n",
    "for (s in seasons) {\n",
    "    temp <- lead_time_grid\n",
    "    temp[,s] <- rep(1,lead_time_len)\n",
    "    lead_time_season_grid <- rbind(lead_time_season_grid, temp)\n",
    "    rm(temp)\n",
    "}\n",
    "\n",
    "# Make predictions and format season column\n",
    "season_lead_time_preds = lead_time_season_grid %>%\n",
    "    as_tibble() %>%\n",
    "    mutate(season = case_when(\n",
    "        seasonwinter==1 ~ \"Winter\",\n",
    "        seasonsummer==1 ~ \"Summer\",\n",
    "        seasonspring==1 ~ \"Spring\",\n",
    "        seasonwinter==0 & seasonsummer==0 & seasonspring==0 ~ \"Autumn\"\n",
    "    )) %>%\n",
    "    select(lead_time, season) %>%\n",
    "    mutate(\n",
    "        # XGBoost pred and format\n",
    "        XGBoost = predict(boostOut, lead_time_season_grid,type=\"prob\")%>%pull(\"Canceled\"),\n",
    "        # GLMNet pred and format\n",
    "        GLMNet = as.vector(\n",
    "            predict(glmnetOut, lead_time_season_grid,s=elasticOut$bestTune$lambda, type=\"response\")[,\"s1\"]\n",
    "        ),\n",
    "        # Un-standardize lead time\n",
    "        lead_time = lead_time*pre_process_function$std[[\"lead_time\"]]+pre_process_function$mean[[\"lead_time\"]]\n",
    "    ) %>%\n",
    "    pivot_longer(!c(lead_time,season), names_to=\"model\", values_to=\"probability\")\n",
    "head(season_lead_time_preds)"
   ]
  },
  {
   "cell_type": "code",
   "execution_count": 662,
   "id": "45e7df57-8cae-4e60-993b-f71fea7b6c2d",
   "metadata": {},
   "outputs": [
    {
     "data": {
      "image/png": "[encoded data removed]",
      "text/plain": [
       "plot without title"
      ]
     },
     "metadata": {
      "image/png": {
       "height": 420,
       "width": 420
      }
     },
     "output_type": "display_data"
    }
   ],
   "source": [
    "season_lead_time_preds %>%\n",
    "    ggplot(aes(x=lead_time, y=probability, color=season)) +\n",
    "        geom_line() +\n",
    "        labs(title=\"Probability of Cancellation Given Reservation Lead Time and Season\",\n",
    "            x=\"Reservation Lead Time (Days)\", y=\"Probability\",color=\"Season\") +\n",
    "        facet_wrap(~model)"
   ]
  },
  {
   "cell_type": "markdown",
   "id": "409b9b09-225d-4869-8e09-c9206735cd3b",
   "metadata": {},
   "source": [
    "# XGBoost Test Performance"
   ]
  },
  {
   "cell_type": "code",
   "execution_count": 371,
   "id": "e4ce171a-b81b-4653-9276-f88b0a84c4b3",
   "metadata": {},
   "outputs": [
    {
     "data": {
      "text/html": [
       "0.88089181505312"
      ],
      "text/latex": [
       "0.88089181505312"
      ],
      "text/markdown": [
       "0.88089181505312"
      ],
      "text/plain": [
       "[1] 0.8808918"
      ]
     },
     "metadata": {},
     "output_type": "display_data"
    }
   ],
   "source": [
    "boostTestPreds <- predict(boostOut, Xtest_mat,type=\"raw\")\n",
    "mean(boostTestPreds == Ytest)"
   ]
  },
  {
   "cell_type": "markdown",
   "id": "fd3fed3c-ccd4-4dc5-b42d-44f31d3dd077",
   "metadata": {},
   "source": [
    "XGBoost has a test performance of 88%, which is higher than the average accuracy in cross validation."
   ]
  },
  {
   "cell_type": "code",
   "execution_count": 690,
   "id": "d7abe74d-7271-4a9a-a249-d084aba1ddee",
   "metadata": {},
   "outputs": [
    {
     "data": {
      "image/png": "[encoded data removed]",
      "text/plain": [
       "plot without title"
      ]
     },
     "metadata": {
      "image/png": {
       "height": 420,
       "width": 420
      }
     },
     "output_type": "display_data"
    }
   ],
   "source": [
    "cv_accuracy <- tibble(GLMNet = elasticOut$resample$Accuracy,\n",
    "                        XGBoost = boostOut$resample$Accuracy\n",
    "                       ) %>%\n",
    "    pivot_longer(c(GLMNet, XGBoost),names_to=\"Model\", values_to=\"Accuracy\")\n",
    "\n",
    "test_acc <- tibble(Model=\"XGBoost\", Accuracy=mean(boostTestPreds == Ytest))\n",
    "\n",
    "ggplot() +\n",
    "    geom_boxplot(data=cv_accuracy, aes(x=Model, y=Accuracy)) +\n",
    "    geom_point(data=test_acc, aes(x=Model, y=Accuracy), color=\"red\") +\n",
    "    ylim(0.7,1) +\n",
    "    labs(title=\"Boxplot of 10-Fold C.V. Accuracy by Model\",\n",
    "         caption=\"Note: Red point is XGBoost's test accuracy.\")"
   ]
  }
 ],
 "metadata": {
  "environment": {
   "kernel": "ir",
   "name": "r-cpu.4-2.m107",
   "type": "gcloud",
   "uri": "gcr.io/deeplearning-platform-release/r-cpu.4-2:m107"
  },
  "kernelspec": {
   "display_name": "R",
   "language": "R",
   "name": "ir"
  },
  "language_info": {
   "codemirror_mode": "r",
   "file_extension": ".r",
   "mimetype": "text/x-r-source",
   "name": "R",
   "pygments_lexer": "r",
   "version": "4.2.3"
  }
 },
 "nbformat": 4,
 "nbformat_minor": 5
}
